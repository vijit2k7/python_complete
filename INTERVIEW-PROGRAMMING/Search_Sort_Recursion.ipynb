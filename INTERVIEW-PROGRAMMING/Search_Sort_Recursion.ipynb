{
 "cells": [
  {
   "cell_type": "markdown",
   "metadata": {},
   "source": [
    "# **SEARCHING AND SORTING**"
   ]
  },
  {
   "cell_type": "markdown",
   "metadata": {},
   "source": [
    "### TERNARY SEARCH###"
   ]
  },
  {
   "cell_type": "code",
   "execution_count": 2,
   "metadata": {},
   "outputs": [
    {
     "name": "stdout",
     "output_type": "stream",
     "text": [
      "7\n"
     ]
    }
   ],
   "source": [
    "import ast\n",
    "l1=[3, 5, 7, 9, 11, 13, 15, 17, 19, 21, 23, 25, 27]\n",
    "key=17\n",
    "#start writing your code from here\n",
    "def ternarySearch(key,a):\n",
    "    s=0\n",
    "    e=len(l1)-1\n",
    "    while(s<=e):\n",
    "        mid1=s+(e-s)//3\n",
    "        mid2=e-(e-s)//3\n",
    "        #3 seach spaces\n",
    "        if key==a[mid1]:\n",
    "            return mid1\n",
    "        if key==a[mid2]:\n",
    "            return mid2\n",
    "        elif (key>a[mid1]) &(key<=a[mid2]):\n",
    "            s=mid1+1\n",
    "            e=mid2\n",
    "        else:\n",
    "            s=mid2+1\n",
    "    return -1\n",
    "\n",
    "print(ternarySearch(key,l1))"
   ]
  },
  {
   "cell_type": "markdown",
   "metadata": {},
   "source": [
    "### Search in Valley ###\n",
    "\n",
    "Sample input:\n",
    "\n",
    "[13, 11, 8, 7, 6, 4, 3, 2, 1, 14, 15, 16, 17]\n",
    "\n",
    "8\n",
    "\n",
    "Sample output:\n",
    "\n",
    "2"
   ]
  },
  {
   "cell_type": "code",
   "execution_count": 3,
   "metadata": {},
   "outputs": [
    {
     "name": "stdout",
     "output_type": "stream",
     "text": [
      "2\n"
     ]
    }
   ],
   "source": [
    "#take input here\n",
    "import ast\n",
    "valley_list=[13, 11, 8, 7, 6, 4, 3, 2, 1, 14, 15, 16, 17]\n",
    "key=8\n",
    "\n",
    "#start writing your code here\n",
    "def valley_search(key,a):\n",
    "    s=0\n",
    "    e=len(a)-1\n",
    "    while(s<=e):\n",
    "        mid=(s+e)//2\n",
    "        if a[mid]==key:\n",
    "            return mid\n",
    "        if a[s]>=a[mid]:\n",
    "            if (a[s]>=key) & (a[mid]<key):\n",
    "                e=mid-1\n",
    "            else:\n",
    "                s=mid+1\n",
    "        else:\n",
    "            if a[mid]>key:\n",
    "                e=mid-1\n",
    "            else:\n",
    "                s=mid+1\n",
    "    return -1\n",
    "print(valley_search(key,valley_list))"
   ]
  },
  {
   "cell_type": "markdown",
   "metadata": {},
   "source": [
    "### SELECTION SORT ###\n",
    "\n",
    "We bring the minimum element at 1st pos,2nd pos and so on---\n",
    "[5,2,1,3,9,7]---->[1,2,3,5,7,9]"
   ]
  },
  {
   "cell_type": "code",
   "execution_count": 17,
   "metadata": {},
   "outputs": [
    {
     "name": "stdout",
     "output_type": "stream",
     "text": [
      "[1, 2, 3, 5, 7, 9]\n"
     ]
    }
   ],
   "source": [
    "a=[5,2,1,3,9,7]\n",
    "for i in range(len(a)):\n",
    "    minimum=a[i]\n",
    "    for j in range(i+1,len(a)):\n",
    "        if a[j]<minimum:\n",
    "            minimum=a[j]\n",
    "    ind=a.index(minimum)\n",
    "    #swapping the 2 index\n",
    "    temp=a[i]\n",
    "    a[i]=a[ind]\n",
    "    a[ind]=temp\n",
    "print(a)\n",
    "        "
   ]
  },
  {
   "cell_type": "markdown",
   "metadata": {},
   "source": [
    "### CUSTOM SORTED IN BUILT FUNCTION ###"
   ]
  },
  {
   "cell_type": "markdown",
   "metadata": {},
   "source": [
    "Q.Sort a list of integers basis the remainder they leave when divided by 5 in an ascending order, i.e. the number that leaves a lower remainder when divided by 5 should come before the number which leaves a higher remainder."
   ]
  },
  {
   "cell_type": "code",
   "execution_count": 1,
   "metadata": {},
   "outputs": [
    {
     "name": "stdout",
     "output_type": "stream",
     "text": [
      "[35, 10, 1, 21, 12, 13, 9]\n"
     ]
    }
   ],
   "source": [
    "# Read the input\n",
    "import ast,sys\n",
    "input_str = sys.stdin.read()\n",
    "input_list = [1, 9, 35, 12, 13, 21, 10]\n",
    "\n",
    "# Write your code here\n",
    "def sort_key(item):\n",
    "    return item%5\n",
    "    \n",
    "print(sorted(input_list,key=sort_key))"
   ]
  },
  {
   "cell_type": "markdown",
   "metadata": {},
   "source": [
    "Example:\n",
    "Input 1:\n",
    "[‘I’, ‘love’, ‘to’, ‘code’, ‘in’, ‘Python’]\n",
    "\n",
    "\n",
    "Output 1:\n",
    "[‘I’, ‘to’, ‘in’, ‘love’, ‘code’, ‘Python’]"
   ]
  },
  {
   "cell_type": "code",
   "execution_count": 3,
   "metadata": {},
   "outputs": [
    {
     "name": "stdout",
     "output_type": "stream",
     "text": [
      "['I', 'to', 'in', 'love', 'code', 'Python']\n"
     ]
    }
   ],
   "source": [
    "input_list =  ['I', 'love', 'to', 'code', 'in', 'Python']   ### SORTING ON THE BASIS OF LENGTH\n",
    "\n",
    "# Write your code here\n",
    "print(sorted(input_list,key=len))"
   ]
  },
  {
   "cell_type": "markdown",
   "metadata": {},
   "source": [
    "### SORT 0'S AND 1'S"
   ]
  },
  {
   "cell_type": "code",
   "execution_count": 2,
   "metadata": {},
   "outputs": [
    {
     "name": "stdout",
     "output_type": "stream",
     "text": [
      "[0, 0, 0, 0, 0, 0, 0, 1, 1, 1, 1, 1, 1, 1]\n"
     ]
    }
   ],
   "source": [
    "# Program to sort a list of 0s and 1s in one traversal of the list\n",
    "\n",
    "# Given list of 0s and 1s\n",
    "a = [0, 0, 1, 1, 1, 1, 0, 1, 0, 0, 0, 1, 1, 0]\n",
    "i=0\n",
    "j=len(a)-1\n",
    "while(i<j):\n",
    "    if (a[i]==0):\n",
    "        i+=1\n",
    "    if(a[j]==1):\n",
    "        j=j-1\n",
    "    elif ((a[i]==1) & (a[j]==0)):\n",
    "            temp=a[i]\n",
    "            a[i]=a[j]\n",
    "            a[j]=temp\n",
    "print(a)\n",
    "        \n",
    "\n",
    "    "
   ]
  },
  {
   "cell_type": "code",
   "execution_count": null,
   "metadata": {},
   "outputs": [],
   "source": []
  }
 ],
 "metadata": {
  "kernelspec": {
   "display_name": "Python 3",
   "language": "python",
   "name": "python3"
  },
  "language_info": {
   "codemirror_mode": {
    "name": "ipython",
    "version": 3
   },
   "file_extension": ".py",
   "mimetype": "text/x-python",
   "name": "python",
   "nbconvert_exporter": "python",
   "pygments_lexer": "ipython3",
   "version": "3.7.0"
  }
 },
 "nbformat": 4,
 "nbformat_minor": 2
}
