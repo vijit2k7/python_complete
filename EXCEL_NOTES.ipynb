{
 "cells": [
  {
   "cell_type": "markdown",
   "metadata": {},
   "source": [
    "# **NOTES EXCEL**----->"
   ]
  },
  {
   "cell_type": "markdown",
   "metadata": {},
   "source": [
    "## Slicing and Dicing Data - Sort and Filter"
   ]
  },
  {
   "cell_type": "markdown",
   "metadata": {},
   "source": [
    "- The sort and filter operations are meant to do these type of analyses. Sorting means to arrange the data (typically a column) in increasing, decreasing or alphabetical order. \n",
    "- Filters, as the name suggests, enable you to filter out certain data, like all the hospitals in Alabama or all the hospitals treating chest pain. "
   ]
  },
  {
   "cell_type": "markdown",
   "metadata": {},
   "source": [
    "### MULTIPLE LEVEL SORT--->"
   ]
  },
  {
   "cell_type": "markdown",
   "metadata": {},
   "source": [
    "- Remember that sorting only works when the data is in the correct format. Next, you'll learn how to sort data on multiple levels simultaneously. For example, you may want to sort all states in a country alphabetically and within each state sort all hospitals from highest to lowest cost or within each state sort hospitals alphabetically. This cannot be done by simply applying the sort twice because the second sort operation overrides the first one. "
   ]
  },
  {
   "cell_type": "markdown",
   "metadata": {},
   "source": [
    "- You'll need to use custom sort to apply a sort operation within an already sorted range. You can also think of this as a Multi-Level Sort."
   ]
  },
  {
   "cell_type": "markdown",
   "metadata": {},
   "source": [
    "In this segment, you learnt the sort and filter operations. The key takeaways from the session are:\n",
    "\n",
    "- Searching can be done using Ctrl + F or by filtering data  \n",
    "- Sorting can be done on numbers (increasing / decreasing ) and characters (A-Z / Z-A)   \n",
    "- Sorting works only when the data is in the correct format\n",
    "- Custom Sort can be used to apply multi - level sort"
   ]
  },
  {
   "cell_type": "markdown",
   "metadata": {},
   "source": [
    "### HIDING COLUMNS AND REMOVING CHARACTERS FROM COLUMNS"
   ]
  },
  {
   "cell_type": "markdown",
   "metadata": {},
   "source": [
    "- You can hide the columns by just right clicking the column headers and select the columns u want to hide\n",
    "\n",
    "- To Unhide the column select the column before and after and then click unhide to get the hidden columns in between\n",
    "\n",
    "- REPLACE can be used to replace all the \"$\" signs from a specific column\n",
    "\n",
    "- *NUMBERS* area can be used to manipulate decimals and even add back the \"$\" sign but this time as a \"currency\" not a string."
   ]
  },
  {
   "cell_type": "markdown",
   "metadata": {},
   "source": [
    "## SHORTCUT TRACKER"
   ]
  },
  {
   "cell_type": "markdown",
   "metadata": {},
   "source": [
    "- CTRL + UP arrow   - Go to the Top of the Column\n",
    "- CTRL + Left arrow   - Go to the Beginning of the row\n",
    "- Shift + Arrow keys - Select cells in direction of arrow keys\n",
    "\n",
    "#Combining the 2 commands--\n",
    "\n",
    "- CTRL + SHIFT+ ARROW - Selects the cells from top to bottom"
   ]
  },
  {
   "cell_type": "markdown",
   "metadata": {},
   "source": [
    "### FREEZE PANES"
   ]
  },
  {
   "cell_type": "markdown",
   "metadata": {},
   "source": [
    "- We cn freeze the first row or first column ----> **View tab--->freeze panes**"
   ]
  },
  {
   "cell_type": "markdown",
   "metadata": {},
   "source": [
    "## **CONDITIONAL FORMATTING**"
   ]
  },
  {
   "cell_type": "markdown",
   "metadata": {},
   "source": [
    "- Go to the conditional Formatting tab ---> **Highlight Cell Rules** ---> Greater than 25,000\n",
    "- Conditional Formatting----> **Bar Graphs** (This helps to create a bar graph for each row entry thus giving a better view)\n",
    "- Conditional Formatting----> **Color** (This helps to create a color(red-green) for each row entry thus giving a better view in which red is minimum and green is maximum).\n",
    "  We can change the rule(**Manage existing rules**)--->and make color green as minimum and red as maximum\n",
    "- **Manage Existing rules** --> We can compare the rules with number(higher to lower),percentile(0-->red,50-->yellow,90-->green)\n",
    "  **Multiple Condition Formatting** can be applied using the manage existing rule tab"
   ]
  },
  {
   "cell_type": "markdown",
   "metadata": {},
   "source": []
  }
 ],
 "metadata": {
  "kernelspec": {
   "display_name": "Python 3",
   "language": "python",
   "name": "python3"
  },
  "language_info": {
   "codemirror_mode": {
    "name": "ipython",
    "version": 3
   },
   "file_extension": ".py",
   "mimetype": "text/x-python",
   "name": "python",
   "nbconvert_exporter": "python",
   "pygments_lexer": "ipython3",
   "version": "3.7.0"
  }
 },
 "nbformat": 4,
 "nbformat_minor": 2
}
