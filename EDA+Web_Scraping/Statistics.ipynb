{
 "cells": [
  {
   "cell_type": "markdown",
   "metadata": {},
   "source": [
    "## **PROBABLITY DISTRIBUTIONS**"
   ]
  },
  {
   "cell_type": "markdown",
   "metadata": {},
   "source": [
    "- Now, through some calculations, a fellow analyst of the company has arrived at the net revenue for each of these scenarios. She creates a probability distribution with this data:\n",
    "\n",
    " \n",
    "\n",
    "- X (Net Revenue of Project, in ₹ crore)\t    P(x)    \n",
    "     -305\t                                    0.1\n",
    "     +15\t                                    0.7\n",
    "     +95                                        0.2\n",
    " \n",
    "\n",
    "- Now, you finally have a probability distribution for X, the net revenue of the project. Using this probability distribution, you can find the answer to our original question: “Can the company expect a profit from this project? Or, should it expect a loss?”. However, to answer this, you will have to learn the concept of expected value, which is what we will cover next."
   ]
  },
  {
   "cell_type": "markdown",
   "metadata": {},
   "source": [
    "#### **EXPECTED VALUE** ####"
   ]
  },
  {
   "cell_type": "markdown",
   "metadata": {},
   "source": [
    "- So, the expected value for a variable X is the value of X that we would “expect” to get after performing the experiment an infinite number of times. It is also called the expectation, average or mean value. Mathematically speaking, for a random variable X that can take the values x1,x2,x3,x4....xn,the expected value (EV) is given by:\n",
    "\n",
    "- EV(x)=x1*P(X=x1)+x2*P(X=x2)+x3*P(X=x3)+........+xn*P(X=xn).\n",
    "- As you may recall, for our red ball game, the expected value came out to be 2.385."
   ]
  },
  {
   "cell_type": "markdown",
   "metadata": {},
   "source": [
    "Suppose we change the game’s rules to the following:\n",
    "\n",
    "Outcome\tPrize\n",
    "- 4 red balls\t+150\n",
    "- 4 blue balls\t-150\n",
    "- Any other outcome\t-10\n",
    "- What will be the expected value now for X (the amount of money won by a player after playing the game once)?\n",
    "\n",
    "E(X)=150*P(X=150)+(-150)*P(X=-150)+(-10)*P(X=-10)"
   ]
  },
  {
   "cell_type": "markdown",
   "metadata": {},
   "source": [
    "#### **EXPECTED LOSS FOR A BANK(CASE STUDY)**"
   ]
  },
  {
   "cell_type": "code",
   "execution_count": 2,
   "metadata": {},
   "outputs": [
    {
     "data": {
      "text/html": [
       "<div>\n",
       "<style scoped>\n",
       "    .dataframe tbody tr th:only-of-type {\n",
       "        vertical-align: middle;\n",
       "    }\n",
       "\n",
       "    .dataframe tbody tr th {\n",
       "        vertical-align: top;\n",
       "    }\n",
       "\n",
       "    .dataframe thead th {\n",
       "        text-align: right;\n",
       "    }\n",
       "</style>\n",
       "<table border=\"1\" class=\"dataframe\">\n",
       "  <thead>\n",
       "    <tr style=\"text-align: right;\">\n",
       "      <th></th>\n",
       "      <th>Customer No.</th>\n",
       "      <th>Exposure at Default (in lakh Rs.)</th>\n",
       "      <th>Recovery (%)</th>\n",
       "      <th>Probability of Default</th>\n",
       "      <th>Unnamed: 4</th>\n",
       "      <th>Unnamed: 5</th>\n",
       "    </tr>\n",
       "  </thead>\n",
       "  <tbody>\n",
       "    <tr>\n",
       "      <th>0</th>\n",
       "      <td>1</td>\n",
       "      <td>11.50</td>\n",
       "      <td>20.00%</td>\n",
       "      <td>0.0070</td>\n",
       "      <td>NaN</td>\n",
       "      <td>NaN</td>\n",
       "    </tr>\n",
       "    <tr>\n",
       "      <th>1</th>\n",
       "      <td>2</td>\n",
       "      <td>0.24</td>\n",
       "      <td>5.10%</td>\n",
       "      <td>0.0033</td>\n",
       "      <td>NaN</td>\n",
       "      <td>NaN</td>\n",
       "    </tr>\n",
       "    <tr>\n",
       "      <th>2</th>\n",
       "      <td>3</td>\n",
       "      <td>0.04</td>\n",
       "      <td>24.86%</td>\n",
       "      <td>0.0022</td>\n",
       "      <td>NaN</td>\n",
       "      <td>NaN</td>\n",
       "    </tr>\n",
       "    <tr>\n",
       "      <th>3</th>\n",
       "      <td>4</td>\n",
       "      <td>13.81</td>\n",
       "      <td>2.29%</td>\n",
       "      <td>0.0066</td>\n",
       "      <td>NaN</td>\n",
       "      <td>NaN</td>\n",
       "    </tr>\n",
       "    <tr>\n",
       "      <th>4</th>\n",
       "      <td>5</td>\n",
       "      <td>19.84</td>\n",
       "      <td>3.47%</td>\n",
       "      <td>0.0020</td>\n",
       "      <td>NaN</td>\n",
       "      <td>NaN</td>\n",
       "    </tr>\n",
       "  </tbody>\n",
       "</table>\n",
       "</div>"
      ],
      "text/plain": [
       "   Customer No.  Exposure at Default (in lakh Rs.) Recovery (%)  \\\n",
       "0             1                              11.50       20.00%   \n",
       "1             2                               0.24        5.10%   \n",
       "2             3                               0.04       24.86%   \n",
       "3             4                              13.81        2.29%   \n",
       "4             5                              19.84        3.47%   \n",
       "\n",
       "   Probability of Default  Unnamed: 4  Unnamed: 5  \n",
       "0                  0.0070         NaN         NaN  \n",
       "1                  0.0033         NaN         NaN  \n",
       "2                  0.0022         NaN         NaN  \n",
       "3                  0.0066         NaN         NaN  \n",
       "4                  0.0020         NaN         NaN  "
      ]
     },
     "execution_count": 2,
     "metadata": {},
     "output_type": "execute_result"
    }
   ],
   "source": [
    "import pandas as pd\n",
    "df=pd.read_csv(\"student_loan.csv\")\n",
    "df.head()"
   ]
  },
  {
   "cell_type": "code",
   "execution_count": 9,
   "metadata": {},
   "outputs": [
    {
     "name": "stdout",
     "output_type": "stream",
     "text": [
      "<class 'pandas.core.frame.DataFrame'>\n",
      "RangeIndex: 10000 entries, 0 to 9999\n",
      "Data columns (total 8 columns):\n",
      "Customer No.                         10000 non-null int64\n",
      "Exposure at Default (in lakh Rs.)    10000 non-null float64\n",
      "Recovery (%)                         10000 non-null object\n",
      "Probability of Default               10000 non-null float64\n",
      "Unnamed: 4                           0 non-null float64\n",
      "Unnamed: 5                           0 non-null float64\n",
      "recovery                             10000 non-null float64\n",
      "lda                                  10000 non-null float64\n",
      "dtypes: float64(6), int64(1), object(1)\n",
      "memory usage: 625.1+ KB\n"
     ]
    }
   ],
   "source": [
    "df['recovery']=df.iloc[:,2].apply(lambda x : float(x.replace('%','')))\n",
    "df['lda']=df.iloc[:,2].apply(lambda x :100- float(x.replace('%','')))\n",
    "df.info()"
   ]
  },
  {
   "cell_type": "code",
   "execution_count": 10,
   "metadata": {},
   "outputs": [
    {
     "data": {
      "text/html": [
       "<div>\n",
       "<style scoped>\n",
       "    .dataframe tbody tr th:only-of-type {\n",
       "        vertical-align: middle;\n",
       "    }\n",
       "\n",
       "    .dataframe tbody tr th {\n",
       "        vertical-align: top;\n",
       "    }\n",
       "\n",
       "    .dataframe thead th {\n",
       "        text-align: right;\n",
       "    }\n",
       "</style>\n",
       "<table border=\"1\" class=\"dataframe\">\n",
       "  <thead>\n",
       "    <tr style=\"text-align: right;\">\n",
       "      <th></th>\n",
       "      <th>Customer No.</th>\n",
       "      <th>Exposure at Default (in lakh Rs.)</th>\n",
       "      <th>Recovery (%)</th>\n",
       "      <th>Probability of Default</th>\n",
       "      <th>Unnamed: 4</th>\n",
       "      <th>Unnamed: 5</th>\n",
       "      <th>recovery</th>\n",
       "      <th>lda</th>\n",
       "    </tr>\n",
       "  </thead>\n",
       "  <tbody>\n",
       "    <tr>\n",
       "      <th>0</th>\n",
       "      <td>1</td>\n",
       "      <td>11.50</td>\n",
       "      <td>20.00%</td>\n",
       "      <td>0.0070</td>\n",
       "      <td>NaN</td>\n",
       "      <td>NaN</td>\n",
       "      <td>20.00</td>\n",
       "      <td>80.00</td>\n",
       "    </tr>\n",
       "    <tr>\n",
       "      <th>1</th>\n",
       "      <td>2</td>\n",
       "      <td>0.24</td>\n",
       "      <td>5.10%</td>\n",
       "      <td>0.0033</td>\n",
       "      <td>NaN</td>\n",
       "      <td>NaN</td>\n",
       "      <td>5.10</td>\n",
       "      <td>94.90</td>\n",
       "    </tr>\n",
       "    <tr>\n",
       "      <th>2</th>\n",
       "      <td>3</td>\n",
       "      <td>0.04</td>\n",
       "      <td>24.86%</td>\n",
       "      <td>0.0022</td>\n",
       "      <td>NaN</td>\n",
       "      <td>NaN</td>\n",
       "      <td>24.86</td>\n",
       "      <td>75.14</td>\n",
       "    </tr>\n",
       "    <tr>\n",
       "      <th>3</th>\n",
       "      <td>4</td>\n",
       "      <td>13.81</td>\n",
       "      <td>2.29%</td>\n",
       "      <td>0.0066</td>\n",
       "      <td>NaN</td>\n",
       "      <td>NaN</td>\n",
       "      <td>2.29</td>\n",
       "      <td>97.71</td>\n",
       "    </tr>\n",
       "    <tr>\n",
       "      <th>4</th>\n",
       "      <td>5</td>\n",
       "      <td>19.84</td>\n",
       "      <td>3.47%</td>\n",
       "      <td>0.0020</td>\n",
       "      <td>NaN</td>\n",
       "      <td>NaN</td>\n",
       "      <td>3.47</td>\n",
       "      <td>96.53</td>\n",
       "    </tr>\n",
       "  </tbody>\n",
       "</table>\n",
       "</div>"
      ],
      "text/plain": [
       "   Customer No.  Exposure at Default (in lakh Rs.) Recovery (%)  \\\n",
       "0             1                              11.50       20.00%   \n",
       "1             2                               0.24        5.10%   \n",
       "2             3                               0.04       24.86%   \n",
       "3             4                              13.81        2.29%   \n",
       "4             5                              19.84        3.47%   \n",
       "\n",
       "   Probability of Default  Unnamed: 4  Unnamed: 5  recovery    lda  \n",
       "0                  0.0070         NaN         NaN     20.00  80.00  \n",
       "1                  0.0033         NaN         NaN      5.10  94.90  \n",
       "2                  0.0022         NaN         NaN     24.86  75.14  \n",
       "3                  0.0066         NaN         NaN      2.29  97.71  \n",
       "4                  0.0020         NaN         NaN      3.47  96.53  "
      ]
     },
     "execution_count": 10,
     "metadata": {},
     "output_type": "execute_result"
    }
   ],
   "source": [
    "df.head()"
   ]
  },
  {
   "cell_type": "code",
   "execution_count": 13,
   "metadata": {},
   "outputs": [
    {
     "data": {
      "text/plain": [
       "493.39131440619997"
      ]
     },
     "execution_count": 13,
     "metadata": {},
     "output_type": "execute_result"
    }
   ],
   "source": [
    "((df.iloc[:,1]*df.iloc[:,3]*df.lda)/100).sum()"
   ]
  },
  {
   "cell_type": "markdown",
   "metadata": {},
   "source": [
    "### **BIONOMIAL DISTRIBUTION** "
   ]
  },
  {
   "cell_type": "markdown",
   "metadata": {},
   "source": [
    "So, the formula for finding binomial probability is given by:\n",
    "\n",
    " \n",
    "P\n",
    "(\n",
    "X\n",
    "=\n",
    "r\n",
    ")\n",
    "=\n",
    " \n",
    "n\n",
    "C\n",
    "r\n",
    "(\n",
    "p\n",
    ")\n",
    "^\n",
    "r\n",
    "(\n",
    "1\n",
    "−\n",
    "p\n",
    ")\n",
    "^\n",
    "n\n",
    "−\n",
    "r\n",
    "\n",
    "\n",
    "Where n is the number of trials, p is the probability of success, and r is the number of successes after n trials.\n",
    "\n",
    " \n",
    "\n",
    "However, there are some conditions that need to be met in order for us to be able to apply the formula.\n",
    "\n",
    "The total number of trials is fixed at n.\n",
    "\n",
    "Each trial is binary, i.e., it has only two possible outcomes: success or failure.\n",
    "\n",
    "Probability of success is the same in all trials, denoted by p."
   ]
  },
  {
   "cell_type": "markdown",
   "metadata": {},
   "source": [
    "#### Q.Let’s define X as the number of packets found to be defective after the 10 packets have been tested. What will be the expected value of X?"
   ]
  },
  {
   "cell_type": "markdown",
   "metadata": {},
   "source": [
    "X=No of packets found to be defective after 10 packets tested.\n",
    "\n",
    "- E(X)=x1*P(X=x1)+x2*P(X=x2)+......xn*P(X=xn)\n",
    "- P(X=0)=0\n",
    "- P(X=1)=1*(10C1)*(0.05)*(0.95)^9 & so on"
   ]
  },
  {
   "cell_type": "code",
   "execution_count": 4,
   "metadata": {},
   "outputs": [],
   "source": [
    "import operator as op\n",
    "from functools import reduce\n",
    "\n",
    "def ncr(n, r):\n",
    "    r = min(r, n-r)\n",
    "    numer = reduce(op.mul, range(n, n-r, -1), 1)\n",
    "    denom = reduce(op.mul, range(1, r+1), 1)\n",
    "    return numer // denom\n"
   ]
  },
  {
   "cell_type": "code",
   "execution_count": 8,
   "metadata": {},
   "outputs": [
    {
     "data": {
      "text/plain": [
       "0.4999999999999998"
      ]
     },
     "execution_count": 8,
     "metadata": {},
     "output_type": "execute_result"
    }
   ],
   "source": [
    "E=0\n",
    "for i in range(1,11):\n",
    "    E+=i*ncr(10,i)*pow(0.05,i)*pow(0.95,10-i)\n",
    "E"
   ]
  },
  {
   "cell_type": "markdown",
   "metadata": {},
   "source": [
    "### **SOLVING EXPECTED VALUE AND ITS MEANING**"
   ]
  },
  {
   "cell_type": "markdown",
   "metadata": {},
   "source": [
    "Let’s understand the process with an example. Suppose you’re playing a game involving a 6-sided die. Could you tell what is the average outcome that you’d expect each time the die is thrown? Answering this question requires us to calculate the expected value.\n",
    "\n",
    " \n",
    "\n",
    " \n",
    "\n",
    "Let’s solve this problem step by step:\n",
    "\n",
    "The first step is defining the random variable. The random variable (X) is the outcome of a die throw. So, X = {1, 2, 3, 4, 5, 6}\n",
    "\n",
    "The second step is to calculate the probabilities related to each outcome. The probability of each outcome is \n",
    "1\n",
    "6\n",
    " in a die throw.\n",
    "\n",
    " \n",
    "\n",
    "Now, you have X and P(X). If you plug these values in the formula \n",
    "E\n",
    "[\n",
    "X\n",
    "]\n",
    "=\n",
    "∑\n",
    "(\n",
    "X\n",
    "×\n",
    "P\n",
    "(\n",
    "X\n",
    ")\n",
    ")\n",
    ", you’ll get 3.5 as the expected value. So how to interpret this number? This means if you were to throw the die a large number of times, the average of those numbers will tend towards 3.5."
   ]
  },
  {
   "cell_type": "markdown",
   "metadata": {},
   "source": [
    "#### **Expected Value Real world eg**\n",
    "Suppose you’re interested in investing in the stock market. It’s always better to invest in multiple stocks rather than one stock. You can calculate the expected value of your returns using the concept of expected value. Let's take a simple hypothetical situation. Our random variable, in this case, can take the expected return of each stock. Then, to calculate the expected return, you need the probability of returns for each stock. This way, you can calculate the expected return of your entire portfolio, which will allow you to invest wisely."
   ]
  },
  {
   "cell_type": "markdown",
   "metadata": {},
   "source": [
    "**Q.Suppose you go to a shoe-shop to buy a pair of shoes. There are 50 pairs of shoes in the shop in-total. Every time you ask the shopkeeper to show you a pair of shoes, he draws 3 pair of shoes randomly from his stock of 50 pairs. If you don’t like any of the pairs, he places all the 3 of them back and then draws 3 pairs again, randomly. Out of all the 50 pairs, 7 pairs of shoes are defected. What is the expected number of defective shoes in a given trial?**"
   ]
  },
  {
   "cell_type": "code",
   "execution_count": 12,
   "metadata": {},
   "outputs": [
    {
     "data": {
      "text/plain": [
       "0.42000000000000004"
      ]
     },
     "execution_count": 12,
     "metadata": {},
     "output_type": "execute_result"
    }
   ],
   "source": [
    "## Sample space for defective shoes in each trial={0,1,2,3}\n",
    "## 0*P(X=0)+1*P(X=1)+.....+3*P(X=3)\n",
    "E2=0\n",
    "for i in range(1,4):\n",
    "    E2+=i*ncr(3,i)*pow(7/50,i)*pow(43/50,3-i)\n",
    "E2"
   ]
  },
  {
   "cell_type": "markdown",
   "metadata": {},
   "source": [
    "**Q.Suppose you’re playing a game using two dice. Upon throwing the two dice simultaneously, if their sum equals 4, then you get 1000 rupees. If their sum is anything other than 4, you lose 100 rupees. What is the expected earning/loss in this game?**"
   ]
  },
  {
   "cell_type": "code",
   "execution_count": 15,
   "metadata": {},
   "outputs": [
    {
     "data": {
      "text/plain": [
       "-8.333333333333329"
      ]
     },
     "execution_count": 15,
     "metadata": {},
     "output_type": "execute_result"
    }
   ],
   "source": [
    "#1. X = {+1000, -100}\n",
    "#2. P(X) = {3/36, 33/36}\n",
    "#If you use the expected value formula, you'll get -8.33 as the answer..\n",
    "\n",
    "E3=(1000)*(3/6)*(1/6)+(-100)*(33/36)\n",
    "E3"
   ]
  },
  {
   "cell_type": "markdown",
   "metadata": {},
   "source": [
    "**Q.Rahul wants to play a poker game. The entry charge for the game is a non-refundable INR 2000 and probability that Rahul wins a poker game is 3%. The prize money is INR 50000. If Rahul wins, he gets the prize money. If he loses, he gets nothing. What's his expected earning/loss per game?**"
   ]
  },
  {
   "cell_type": "code",
   "execution_count": 17,
   "metadata": {},
   "outputs": [
    {
     "data": {
      "text/plain": [
       "-500.0"
      ]
     },
     "execution_count": 17,
     "metadata": {},
     "output_type": "execute_result"
    }
   ],
   "source": [
    "## X={48000,-2000}\n",
    "## P(X)={0.03,0.97}\n",
    "E4=48000*0.03-2000*0.97\n",
    "E4"
   ]
  },
  {
   "cell_type": "markdown",
   "metadata": {},
   "source": [
    "**Q.Suppose a new cancer treatment has been discovered, claiming to increase the one-year survival rate for pancreatic cancer patients to 40%. In other words, the probability that a patient suffering from pancreatic cancer would survive for at least one year after receiving this treatment is 40%.**\n",
    "\n",
    "**- 1.The hospital has a total of 10 patients suffering from pancreatic cancer. What is the probability that exactly 4 of these patients would survive the first year after receiving this treatment?**\n",
    "\n",
    "**- 2.What is the probability that the number of patients that survive the first year after receiving the treatment would not be more than 2?**"
   ]
  },
  {
   "cell_type": "code",
   "execution_count": 18,
   "metadata": {},
   "outputs": [
    {
     "data": {
      "text/plain": [
       "0.250822656"
      ]
     },
     "execution_count": 18,
     "metadata": {},
     "output_type": "execute_result"
    }
   ],
   "source": [
    "## For 1st--we use bionomial distribution ie either he survives or he doesnt\n",
    "##P(survive)=0.4,P(not)=0.6\n",
    "E5=ncr(10,4)*pow(0.4,4)*pow(0.6,6)\n",
    "E5"
   ]
  },
  {
   "cell_type": "code",
   "execution_count": 20,
   "metadata": {},
   "outputs": [
    {
     "data": {
      "text/plain": [
       "0.16728975359999998"
      ]
     },
     "execution_count": 20,
     "metadata": {},
     "output_type": "execute_result"
    }
   ],
   "source": [
    "## For 2nd P(X=0)+P(X=1)+P(X=2)\n",
    "E6=0\n",
    "for i in range(0,3):\n",
    "    E6+=ncr(10,i)*pow(0.4,i)*pow(0.6,10-i)\n",
    "E6"
   ]
  },
  {
   "cell_type": "code",
   "execution_count": 39,
   "metadata": {},
   "outputs": [
    {
     "data": {
      "text/plain": [
       "0.945"
      ]
     },
     "execution_count": 39,
     "metadata": {},
     "output_type": "execute_result"
    }
   ],
   "source": [
    "p1=0.85*0.6\n",
    "p2=0.6*0.3\n",
    "p3=0.3*0.85\n",
    "all_p=0.85*0.3*0.6\n",
    "p1+p2+p3"
   ]
  },
  {
   "cell_type": "code",
   "execution_count": 44,
   "metadata": {},
   "outputs": [
    {
     "data": {
      "text/plain": [
       "0.00608252070404931"
      ]
     },
     "execution_count": 44,
     "metadata": {},
     "output_type": "execute_result"
    }
   ],
   "source": [
    "### 7 normal,5-intermediate,2-high\n",
    "### P(A U B U C)=P(A)+P(B)+P(C)-P(AintB)-P(BintC)-P(CintA)+P(AintBintC)\n",
    "P_A=ncr(10,7)*pow(0.85,7)*pow(0.15,3)\n",
    "P_B=ncr(10,5)*pow(0.6,5)*pow(0.4,5)\n",
    "P_C=ncr(10,2)*pow(0.3,2)*pow(0.7,8)\n",
    "P_A*P_B*P_C"
   ]
  },
  {
   "cell_type": "code",
   "execution_count": 38,
   "metadata": {},
   "outputs": [
    {
     "data": {
      "text/plain": [
       "0.8213167060590538"
      ]
     },
     "execution_count": 38,
     "metadata": {},
     "output_type": "execute_result"
    }
   ],
   "source": [
    "P_A_B=ncr(10,5)*pow(p1,5)*pow(1-p1,5)\n",
    "P_B_C=ncr(10,2)*pow(p2,2)*pow(1-p2,8)\n",
    "P_C_A=ncr(10,2)*pow(p3,2)*pow(1-p3,8)\n",
    "P_A_B+P_B_C+P_C_A"
   ]
  },
  {
   "cell_type": "code",
   "execution_count": 41,
   "metadata": {},
   "outputs": [
    {
     "data": {
      "text/plain": [
       "0.2790375551213251"
      ]
     },
     "execution_count": 41,
     "metadata": {},
     "output_type": "execute_result"
    }
   ],
   "source": [
    "P_A_B_C=ncr(10,2)*pow(all_p,2)*pow(1-all_p,8)\n",
    "P_A_B_C"
   ]
  },
  {
   "cell_type": "code",
   "execution_count": 43,
   "metadata": {},
   "outputs": [
    {
     "data": {
      "text/plain": [
       "0.02168713511617737"
      ]
     },
     "execution_count": 43,
     "metadata": {},
     "output_type": "execute_result"
    }
   ],
   "source": [
    "final=P_A+P_B+P_C-(P_A_B+P_B_C+P_C_A)+P_A_B_C\n",
    "final"
   ]
  },
  {
   "cell_type": "markdown",
   "metadata": {},
   "source": [
    "### **CDF AND PDF(Probablity Distribution Function)**"
   ]
  },
  {
   "cell_type": "markdown",
   "metadata": {},
   "source": [
    "![title](img/cdf.png)"
   ]
  },
  {
   "cell_type": "markdown",
   "metadata": {},
   "source": [
    "![title](img/probdistfunc.png)\n",
    "\n",
    "For example, the area under the curve between 20, the smallest possible value of X, and 28 gives the cumulative probability for X, which is equal to 28.\n",
    "- The total area under the curve will always be equal to 1.\n",
    "- Area under the curve at any X will give the cumulative probablity at that position."
   ]
  },
  {
   "cell_type": "markdown",
   "metadata": {},
   "source": [
    "![title](img/uniform_pdf.png)\n",
    "Clearly, this area is the area of a rectangle with length 10 and unknown height h. Hence, you can say that 10 * h = 1, which gives us h = 0.1. So, the value of the PDF for all values between 0 and 10 is 0.1."
   ]
  },
  {
   "cell_type": "markdown",
   "metadata": {},
   "source": [
    "### **NORMAL DISTRIBUTION** ##\n",
    "![title](img/normal_dist.png)\n",
    "\n",
    "##### **IMPORTANT NOTE-Mean shifts the curve from left to right as it increases or decreases whereas 'standard deviation' is involved in flattening of the curve,the higher the standard deviation the more flattened the curve will be**\n"
   ]
  },
  {
   "cell_type": "markdown",
   "metadata": {},
   "source": [
    "#  **SAMPLING AND CENTRAL LIMIT THEOREM**\n",
    "\n"
   ]
  },
  {
   "cell_type": "markdown",
   "metadata": {},
   "source": [
    "\n",
    "\n",
    "![title](img/central_limit2.png)"
   ]
  },
  {
   "cell_type": "code",
   "execution_count": 13,
   "metadata": {},
   "outputs": [
    {
     "data": {
      "text/html": [
       "<div>\n",
       "<style scoped>\n",
       "    .dataframe tbody tr th:only-of-type {\n",
       "        vertical-align: middle;\n",
       "    }\n",
       "\n",
       "    .dataframe tbody tr th {\n",
       "        vertical-align: top;\n",
       "    }\n",
       "\n",
       "    .dataframe thead th {\n",
       "        text-align: right;\n",
       "    }\n",
       "</style>\n",
       "<table border=\"1\" class=\"dataframe\">\n",
       "  <thead>\n",
       "    <tr style=\"text-align: right;\">\n",
       "      <th></th>\n",
       "      <th>Sample No.</th>\n",
       "      <th>Sample Mean</th>\n",
       "    </tr>\n",
       "  </thead>\n",
       "  <tbody>\n",
       "    <tr>\n",
       "      <th>0</th>\n",
       "      <td>1</td>\n",
       "      <td>3.2</td>\n",
       "    </tr>\n",
       "    <tr>\n",
       "      <th>1</th>\n",
       "      <td>2</td>\n",
       "      <td>2.6</td>\n",
       "    </tr>\n",
       "    <tr>\n",
       "      <th>2</th>\n",
       "      <td>3</td>\n",
       "      <td>2.8</td>\n",
       "    </tr>\n",
       "    <tr>\n",
       "      <th>3</th>\n",
       "      <td>4</td>\n",
       "      <td>2.0</td>\n",
       "    </tr>\n",
       "    <tr>\n",
       "      <th>4</th>\n",
       "      <td>5</td>\n",
       "      <td>3.0</td>\n",
       "    </tr>\n",
       "  </tbody>\n",
       "</table>\n",
       "</div>"
      ],
      "text/plain": [
       "   Sample No.  Sample Mean\n",
       "0           1          3.2\n",
       "1           2          2.6\n",
       "2           3          2.8\n",
       "3           4          2.0\n",
       "4           5          3.0"
      ]
     },
     "execution_count": 13,
     "metadata": {},
     "output_type": "execute_result"
    }
   ],
   "source": [
    "import pandas as pd\n",
    "import math\n",
    "df2=pd.read_csv(\"dataset/Inferntial Statistics - UpGrad Samples.csv\")\n",
    "df2.head()"
   ]
  },
  {
   "cell_type": "code",
   "execution_count": 14,
   "metadata": {},
   "outputs": [
    {
     "data": {
      "text/plain": [
       "2.3480000000000003"
      ]
     },
     "execution_count": 14,
     "metadata": {},
     "output_type": "execute_result"
    }
   ],
   "source": [
    "mean=df2['Sample Mean'].sum()/len(df2)\n",
    "mean"
   ]
  },
  {
   "cell_type": "code",
   "execution_count": 16,
   "metadata": {},
   "outputs": [
    {
     "data": {
      "text/plain": [
       "0.4248482081873478"
      ]
     },
     "execution_count": 16,
     "metadata": {},
     "output_type": "execute_result"
    }
   ],
   "source": [
    "sd=pow((mean-df2['Sample Mean']),2)/len(df2)\n",
    "math.sqrt(sd.sum())"
   ]
  },
  {
   "cell_type": "markdown",
   "metadata": {},
   "source": [
    "#### **SAMPLING AND SAMPLING DISTRIBUTION**"
   ]
  },
  {
   "cell_type": "markdown",
   "metadata": {},
   "source": [
    "So, there are two important properties of a sampling distribution of the mean:\n",
    "\n",
    "- Sampling distribution’s mean (\n",
    "μ\n",
    "¯\n",
    "X\n",
    ") = Population mean (μ)\n",
    "\n",
    "- Sampling distribution’s standard deviation (Standard error) = \n",
    "σ\n",
    "√\n",
    "n\n",
    ", where σ is the population’s standard deviation and n is the sample size"
   ]
  },
  {
   "cell_type": "markdown",
   "metadata": {},
   "source": [
    "IMPORTANT-- If there are 2 samples n1 and n2 where n1>n2 then sd1<sd2 for the samples as the curve is narrower when samples are more"
   ]
  },
  {
   "cell_type": "markdown",
   "metadata": {},
   "source": [
    "#### **CENTRAL LIMIT THEOREM**"
   ]
  },
  {
   "cell_type": "markdown",
   "metadata": {},
   "source": [
    "So, the central limit theorem says that for any kind of data, provided a high number of samples has been taken, the following properties hold true:\n",
    "\n",
    "- Sampling distribution’s mean (\n",
    "μ\n",
    "¯\n",
    "X\n",
    ") = Population mean (μ),\n",
    "\n",
    "- Sampling distribution’s standard deviation (standard error) = \n",
    "σ\n",
    "√\n",
    "n\n",
    ", and\n",
    "\n",
    "- For n > 30, the sampling distribution becomes a normal distribution.\n",
    "\n",
    "**FOR DEMO ON CLT You can refer the file CLT_DEMO**"
   ]
  },
  {
   "cell_type": "code",
   "execution_count": null,
   "metadata": {},
   "outputs": [],
   "source": []
  }
 ],
 "metadata": {
  "kernelspec": {
   "display_name": "Python 3",
   "language": "python",
   "name": "python3"
  },
  "language_info": {
   "codemirror_mode": {
    "name": "ipython",
    "version": 3
   },
   "file_extension": ".py",
   "mimetype": "text/x-python",
   "name": "python",
   "nbconvert_exporter": "python",
   "pygments_lexer": "ipython3",
   "version": "3.7.0"
  }
 },
 "nbformat": 4,
 "nbformat_minor": 2
}
