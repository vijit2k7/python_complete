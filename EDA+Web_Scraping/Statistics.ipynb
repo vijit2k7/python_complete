{
 "cells": [
  {
   "cell_type": "markdown",
   "metadata": {},
   "source": [
    "## **PROBABLITY DISTRIBUTIONS**"
   ]
  },
  {
   "cell_type": "markdown",
   "metadata": {},
   "source": [
    "- Now, through some calculations, a fellow analyst of the company has arrived at the net revenue for each of these scenarios. She creates a probability distribution with this data:\n",
    "\n",
    " \n",
    "\n",
    "- X (Net Revenue of Project, in ₹ crore)\t    P(x)    \n",
    "     -305\t                                    0.1\n",
    "     +15\t                                    0.7\n",
    "     +95                                        0.2\n",
    " \n",
    "\n",
    "- Now, you finally have a probability distribution for X, the net revenue of the project. Using this probability distribution, you can find the answer to our original question: “Can the company expect a profit from this project? Or, should it expect a loss?”. However, to answer this, you will have to learn the concept of expected value, which is what we will cover next."
   ]
  },
  {
   "cell_type": "markdown",
   "metadata": {},
   "source": [
    "#### **EXPECTED VALUE** ####"
   ]
  },
  {
   "cell_type": "markdown",
   "metadata": {},
   "source": [
    "- So, the expected value for a variable X is the value of X that we would “expect” to get after performing the experiment an infinite number of times. It is also called the expectation, average or mean value. Mathematically speaking, for a random variable X that can take the values x1,x2,x3,x4....xn,the expected value (EV) is given by:\n",
    "\n",
    "- EV(x)=x1*P(X=x1)+x2*P(X=x2)+x3*P(X=x3)+........+xn*P(X=xn).\n",
    "- As you may recall, for our red ball game, the expected value came out to be 2.385."
   ]
  },
  {
   "cell_type": "markdown",
   "metadata": {},
   "source": [
    "Suppose we change the game’s rules to the following:\n",
    "\n",
    "Outcome\tPrize\n",
    "- 4 red balls\t+150\n",
    "- 4 blue balls\t-150\n",
    "- Any other outcome\t-10\n",
    "- What will be the expected value now for X (the amount of money won by a player after playing the game once)?\n",
    "\n",
    "E(X)=150*P(X=150)+(-150)*P(X=-150)+(-10)*P(X=-10)"
   ]
  },
  {
   "cell_type": "markdown",
   "metadata": {},
   "source": [
    "#### **EXPECTED LOSS FOR A BANK(CASE STUDY)**"
   ]
  },
  {
   "cell_type": "code",
   "execution_count": 2,
   "metadata": {},
   "outputs": [
    {
     "data": {
      "text/html": [
       "<div>\n",
       "<style scoped>\n",
       "    .dataframe tbody tr th:only-of-type {\n",
       "        vertical-align: middle;\n",
       "    }\n",
       "\n",
       "    .dataframe tbody tr th {\n",
       "        vertical-align: top;\n",
       "    }\n",
       "\n",
       "    .dataframe thead th {\n",
       "        text-align: right;\n",
       "    }\n",
       "</style>\n",
       "<table border=\"1\" class=\"dataframe\">\n",
       "  <thead>\n",
       "    <tr style=\"text-align: right;\">\n",
       "      <th></th>\n",
       "      <th>Customer No.</th>\n",
       "      <th>Exposure at Default (in lakh Rs.)</th>\n",
       "      <th>Recovery (%)</th>\n",
       "      <th>Probability of Default</th>\n",
       "      <th>Unnamed: 4</th>\n",
       "      <th>Unnamed: 5</th>\n",
       "    </tr>\n",
       "  </thead>\n",
       "  <tbody>\n",
       "    <tr>\n",
       "      <th>0</th>\n",
       "      <td>1</td>\n",
       "      <td>11.50</td>\n",
       "      <td>20.00%</td>\n",
       "      <td>0.0070</td>\n",
       "      <td>NaN</td>\n",
       "      <td>NaN</td>\n",
       "    </tr>\n",
       "    <tr>\n",
       "      <th>1</th>\n",
       "      <td>2</td>\n",
       "      <td>0.24</td>\n",
       "      <td>5.10%</td>\n",
       "      <td>0.0033</td>\n",
       "      <td>NaN</td>\n",
       "      <td>NaN</td>\n",
       "    </tr>\n",
       "    <tr>\n",
       "      <th>2</th>\n",
       "      <td>3</td>\n",
       "      <td>0.04</td>\n",
       "      <td>24.86%</td>\n",
       "      <td>0.0022</td>\n",
       "      <td>NaN</td>\n",
       "      <td>NaN</td>\n",
       "    </tr>\n",
       "    <tr>\n",
       "      <th>3</th>\n",
       "      <td>4</td>\n",
       "      <td>13.81</td>\n",
       "      <td>2.29%</td>\n",
       "      <td>0.0066</td>\n",
       "      <td>NaN</td>\n",
       "      <td>NaN</td>\n",
       "    </tr>\n",
       "    <tr>\n",
       "      <th>4</th>\n",
       "      <td>5</td>\n",
       "      <td>19.84</td>\n",
       "      <td>3.47%</td>\n",
       "      <td>0.0020</td>\n",
       "      <td>NaN</td>\n",
       "      <td>NaN</td>\n",
       "    </tr>\n",
       "  </tbody>\n",
       "</table>\n",
       "</div>"
      ],
      "text/plain": [
       "   Customer No.  Exposure at Default (in lakh Rs.) Recovery (%)  \\\n",
       "0             1                              11.50       20.00%   \n",
       "1             2                               0.24        5.10%   \n",
       "2             3                               0.04       24.86%   \n",
       "3             4                              13.81        2.29%   \n",
       "4             5                              19.84        3.47%   \n",
       "\n",
       "   Probability of Default  Unnamed: 4  Unnamed: 5  \n",
       "0                  0.0070         NaN         NaN  \n",
       "1                  0.0033         NaN         NaN  \n",
       "2                  0.0022         NaN         NaN  \n",
       "3                  0.0066         NaN         NaN  \n",
       "4                  0.0020         NaN         NaN  "
      ]
     },
     "execution_count": 2,
     "metadata": {},
     "output_type": "execute_result"
    }
   ],
   "source": [
    "import pandas as pd\n",
    "df=pd.read_csv(\"student_loan.csv\")\n",
    "df.head()"
   ]
  },
  {
   "cell_type": "code",
   "execution_count": 9,
   "metadata": {},
   "outputs": [
    {
     "name": "stdout",
     "output_type": "stream",
     "text": [
      "<class 'pandas.core.frame.DataFrame'>\n",
      "RangeIndex: 10000 entries, 0 to 9999\n",
      "Data columns (total 8 columns):\n",
      "Customer No.                         10000 non-null int64\n",
      "Exposure at Default (in lakh Rs.)    10000 non-null float64\n",
      "Recovery (%)                         10000 non-null object\n",
      "Probability of Default               10000 non-null float64\n",
      "Unnamed: 4                           0 non-null float64\n",
      "Unnamed: 5                           0 non-null float64\n",
      "recovery                             10000 non-null float64\n",
      "lda                                  10000 non-null float64\n",
      "dtypes: float64(6), int64(1), object(1)\n",
      "memory usage: 625.1+ KB\n"
     ]
    }
   ],
   "source": [
    "df['recovery']=df.iloc[:,2].apply(lambda x : float(x.replace('%','')))\n",
    "df['lda']=df.iloc[:,2].apply(lambda x :100- float(x.replace('%','')))\n",
    "df.info()"
   ]
  },
  {
   "cell_type": "code",
   "execution_count": 10,
   "metadata": {},
   "outputs": [
    {
     "data": {
      "text/html": [
       "<div>\n",
       "<style scoped>\n",
       "    .dataframe tbody tr th:only-of-type {\n",
       "        vertical-align: middle;\n",
       "    }\n",
       "\n",
       "    .dataframe tbody tr th {\n",
       "        vertical-align: top;\n",
       "    }\n",
       "\n",
       "    .dataframe thead th {\n",
       "        text-align: right;\n",
       "    }\n",
       "</style>\n",
       "<table border=\"1\" class=\"dataframe\">\n",
       "  <thead>\n",
       "    <tr style=\"text-align: right;\">\n",
       "      <th></th>\n",
       "      <th>Customer No.</th>\n",
       "      <th>Exposure at Default (in lakh Rs.)</th>\n",
       "      <th>Recovery (%)</th>\n",
       "      <th>Probability of Default</th>\n",
       "      <th>Unnamed: 4</th>\n",
       "      <th>Unnamed: 5</th>\n",
       "      <th>recovery</th>\n",
       "      <th>lda</th>\n",
       "    </tr>\n",
       "  </thead>\n",
       "  <tbody>\n",
       "    <tr>\n",
       "      <th>0</th>\n",
       "      <td>1</td>\n",
       "      <td>11.50</td>\n",
       "      <td>20.00%</td>\n",
       "      <td>0.0070</td>\n",
       "      <td>NaN</td>\n",
       "      <td>NaN</td>\n",
       "      <td>20.00</td>\n",
       "      <td>80.00</td>\n",
       "    </tr>\n",
       "    <tr>\n",
       "      <th>1</th>\n",
       "      <td>2</td>\n",
       "      <td>0.24</td>\n",
       "      <td>5.10%</td>\n",
       "      <td>0.0033</td>\n",
       "      <td>NaN</td>\n",
       "      <td>NaN</td>\n",
       "      <td>5.10</td>\n",
       "      <td>94.90</td>\n",
       "    </tr>\n",
       "    <tr>\n",
       "      <th>2</th>\n",
       "      <td>3</td>\n",
       "      <td>0.04</td>\n",
       "      <td>24.86%</td>\n",
       "      <td>0.0022</td>\n",
       "      <td>NaN</td>\n",
       "      <td>NaN</td>\n",
       "      <td>24.86</td>\n",
       "      <td>75.14</td>\n",
       "    </tr>\n",
       "    <tr>\n",
       "      <th>3</th>\n",
       "      <td>4</td>\n",
       "      <td>13.81</td>\n",
       "      <td>2.29%</td>\n",
       "      <td>0.0066</td>\n",
       "      <td>NaN</td>\n",
       "      <td>NaN</td>\n",
       "      <td>2.29</td>\n",
       "      <td>97.71</td>\n",
       "    </tr>\n",
       "    <tr>\n",
       "      <th>4</th>\n",
       "      <td>5</td>\n",
       "      <td>19.84</td>\n",
       "      <td>3.47%</td>\n",
       "      <td>0.0020</td>\n",
       "      <td>NaN</td>\n",
       "      <td>NaN</td>\n",
       "      <td>3.47</td>\n",
       "      <td>96.53</td>\n",
       "    </tr>\n",
       "  </tbody>\n",
       "</table>\n",
       "</div>"
      ],
      "text/plain": [
       "   Customer No.  Exposure at Default (in lakh Rs.) Recovery (%)  \\\n",
       "0             1                              11.50       20.00%   \n",
       "1             2                               0.24        5.10%   \n",
       "2             3                               0.04       24.86%   \n",
       "3             4                              13.81        2.29%   \n",
       "4             5                              19.84        3.47%   \n",
       "\n",
       "   Probability of Default  Unnamed: 4  Unnamed: 5  recovery    lda  \n",
       "0                  0.0070         NaN         NaN     20.00  80.00  \n",
       "1                  0.0033         NaN         NaN      5.10  94.90  \n",
       "2                  0.0022         NaN         NaN     24.86  75.14  \n",
       "3                  0.0066         NaN         NaN      2.29  97.71  \n",
       "4                  0.0020         NaN         NaN      3.47  96.53  "
      ]
     },
     "execution_count": 10,
     "metadata": {},
     "output_type": "execute_result"
    }
   ],
   "source": [
    "df.head()"
   ]
  },
  {
   "cell_type": "code",
   "execution_count": 13,
   "metadata": {},
   "outputs": [
    {
     "data": {
      "text/plain": [
       "493.39131440619997"
      ]
     },
     "execution_count": 13,
     "metadata": {},
     "output_type": "execute_result"
    }
   ],
   "source": [
    "((df.iloc[:,1]*df.iloc[:,3]*df.lda)/100).sum()"
   ]
  },
  {
   "cell_type": "markdown",
   "metadata": {},
   "source": [
    "### **BIONOMIAL DISTRIBUTION** "
   ]
  },
  {
   "cell_type": "markdown",
   "metadata": {},
   "source": [
    "So, the formula for finding binomial probability is given by:\n",
    "\n",
    " \n",
    "P\n",
    "(\n",
    "X\n",
    "=\n",
    "r\n",
    ")\n",
    "=\n",
    " \n",
    "n\n",
    "C\n",
    "r\n",
    "(\n",
    "p\n",
    ")\n",
    "^\n",
    "r\n",
    "(\n",
    "1\n",
    "−\n",
    "p\n",
    ")\n",
    "^\n",
    "n\n",
    "−\n",
    "r\n",
    "\n",
    "\n",
    "Where n is the number of trials, p is the probability of success, and r is the number of successes after n trials.\n",
    "\n",
    " \n",
    "\n",
    "However, there are some conditions that need to be met in order for us to be able to apply the formula.\n",
    "\n",
    "The total number of trials is fixed at n.\n",
    "\n",
    "Each trial is binary, i.e., it has only two possible outcomes: success or failure.\n",
    "\n",
    "Probability of success is the same in all trials, denoted by p."
   ]
  },
  {
   "cell_type": "markdown",
   "metadata": {},
   "source": [
    "#### Q.Let’s define X as the number of packets found to be defective after the 10 packets have been tested. What will be the expected value of X?"
   ]
  },
  {
   "cell_type": "markdown",
   "metadata": {},
   "source": [
    "X=No of packets found to be defective after 10 packets tested.\n",
    "\n",
    "- E(X)=x1*P(X=x1)+x2*P(X=x2)+......xn*P(X=xn)\n",
    "- P(X=0)=0\n",
    "- P(X=1)=1*(10C1)*(0.05)*(0.95)^9 & so on"
   ]
  },
  {
   "cell_type": "code",
   "execution_count": 4,
   "metadata": {},
   "outputs": [],
   "source": [
    "import operator as op\n",
    "from functools import reduce\n",
    "\n",
    "def ncr(n, r):\n",
    "    r = min(r, n-r)\n",
    "    numer = reduce(op.mul, range(n, n-r, -1), 1)\n",
    "    denom = reduce(op.mul, range(1, r+1), 1)\n",
    "    return numer // denom\n"
   ]
  },
  {
   "cell_type": "code",
   "execution_count": 8,
   "metadata": {},
   "outputs": [
    {
     "data": {
      "text/plain": [
       "0.4999999999999998"
      ]
     },
     "execution_count": 8,
     "metadata": {},
     "output_type": "execute_result"
    }
   ],
   "source": [
    "E=0\n",
    "for i in range(1,11):\n",
    "    E+=i*ncr(10,i)*pow(0.05,i)*pow(0.95,10-i)\n",
    "E"
   ]
  },
  {
   "cell_type": "markdown",
   "metadata": {},
   "source": [
    "### **SOLVING EXPECTED VALUE AND ITS MEANING**"
   ]
  },
  {
   "cell_type": "markdown",
   "metadata": {},
   "source": [
    "Let’s understand the process with an example. Suppose you’re playing a game involving a 6-sided die. Could you tell what is the average outcome that you’d expect each time the die is thrown? Answering this question requires us to calculate the expected value.\n",
    "\n",
    " \n",
    "\n",
    " \n",
    "\n",
    "Let’s solve this problem step by step:\n",
    "\n",
    "The first step is defining the random variable. The random variable (X) is the outcome of a die throw. So, X = {1, 2, 3, 4, 5, 6}\n",
    "\n",
    "The second step is to calculate the probabilities related to each outcome. The probability of each outcome is \n",
    "1\n",
    "6\n",
    " in a die throw.\n",
    "\n",
    " \n",
    "\n",
    "Now, you have X and P(X). If you plug these values in the formula \n",
    "E\n",
    "[\n",
    "X\n",
    "]\n",
    "=\n",
    "∑\n",
    "(\n",
    "X\n",
    "×\n",
    "P\n",
    "(\n",
    "X\n",
    ")\n",
    ")\n",
    ", you’ll get 3.5 as the expected value. So how to interpret this number? This means if you were to throw the die a large number of times, the average of those numbers will tend towards 3.5."
   ]
  },
  {
   "cell_type": "markdown",
   "metadata": {},
   "source": [
    "#### **Expected Value Real world eg**\n",
    "Suppose you’re interested in investing in the stock market. It’s always better to invest in multiple stocks rather than one stock. You can calculate the expected value of your returns using the concept of expected value. Let's take a simple hypothetical situation. Our random variable, in this case, can take the expected return of each stock. Then, to calculate the expected return, you need the probability of returns for each stock. This way, you can calculate the expected return of your entire portfolio, which will allow you to invest wisely."
   ]
  },
  {
   "cell_type": "markdown",
   "metadata": {},
   "source": [
    "**Q.Suppose you go to a shoe-shop to buy a pair of shoes. There are 50 pairs of shoes in the shop in-total. Every time you ask the shopkeeper to show you a pair of shoes, he draws 3 pair of shoes randomly from his stock of 50 pairs. If you don’t like any of the pairs, he places all the 3 of them back and then draws 3 pairs again, randomly. Out of all the 50 pairs, 7 pairs of shoes are defected. What is the expected number of defective shoes in a given trial?**"
   ]
  },
  {
   "cell_type": "code",
   "execution_count": 12,
   "metadata": {},
   "outputs": [
    {
     "data": {
      "text/plain": [
       "0.42000000000000004"
      ]
     },
     "execution_count": 12,
     "metadata": {},
     "output_type": "execute_result"
    }
   ],
   "source": [
    "## Sample space for defective shoes in each trial={0,1,2,3}\n",
    "## 0*P(X=0)+1*P(X=1)+.....+3*P(X=3)\n",
    "E2=0\n",
    "for i in range(1,4):\n",
    "    E2+=i*ncr(3,i)*pow(7/50,i)*pow(43/50,3-i)\n",
    "E2"
   ]
  },
  {
   "cell_type": "markdown",
   "metadata": {},
   "source": [
    "**Q.Suppose you’re playing a game using two dice. Upon throwing the two dice simultaneously, if their sum equals 4, then you get 1000 rupees. If their sum is anything other than 4, you lose 100 rupees. What is the expected earning/loss in this game?**"
   ]
  },
  {
   "cell_type": "code",
   "execution_count": 15,
   "metadata": {},
   "outputs": [
    {
     "data": {
      "text/plain": [
       "-8.333333333333329"
      ]
     },
     "execution_count": 15,
     "metadata": {},
     "output_type": "execute_result"
    }
   ],
   "source": [
    "#1. X = {+1000, -100}\n",
    "#2. P(X) = {3/36, 33/36}\n",
    "#If you use the expected value formula, you'll get -8.33 as the answer..\n",
    "\n",
    "E3=(1000)*(3/6)*(1/6)+(-100)*(33/36)\n",
    "E3"
   ]
  },
  {
   "cell_type": "markdown",
   "metadata": {},
   "source": [
    "**Q.Rahul wants to play a poker game. The entry charge for the game is a non-refundable INR 2000 and probability that Rahul wins a poker game is 3%. The prize money is INR 50000. If Rahul wins, he gets the prize money. If he loses, he gets nothing. What's his expected earning/loss per game?**"
   ]
  },
  {
   "cell_type": "code",
   "execution_count": 17,
   "metadata": {},
   "outputs": [
    {
     "data": {
      "text/plain": [
       "-500.0"
      ]
     },
     "execution_count": 17,
     "metadata": {},
     "output_type": "execute_result"
    }
   ],
   "source": [
    "## X={48000,-2000}\n",
    "## P(X)={0.03,0.97}\n",
    "E4=48000*0.03-2000*0.97\n",
    "E4"
   ]
  },
  {
   "cell_type": "markdown",
   "metadata": {},
   "source": [
    "**Q.Suppose a new cancer treatment has been discovered, claiming to increase the one-year survival rate for pancreatic cancer patients to 40%. In other words, the probability that a patient suffering from pancreatic cancer would survive for at least one year after receiving this treatment is 40%.**\n",
    "\n",
    "**- 1.The hospital has a total of 10 patients suffering from pancreatic cancer. What is the probability that exactly 4 of these patients would survive the first year after receiving this treatment?**\n",
    "\n",
    "**- 2.What is the probability that the number of patients that survive the first year after receiving the treatment would not be more than 2?**"
   ]
  },
  {
   "cell_type": "code",
   "execution_count": 18,
   "metadata": {},
   "outputs": [
    {
     "data": {
      "text/plain": [
       "0.250822656"
      ]
     },
     "execution_count": 18,
     "metadata": {},
     "output_type": "execute_result"
    }
   ],
   "source": [
    "## For 1st--we use bionomial distribution ie either he survives or he doesnt\n",
    "##P(survive)=0.4,P(not)=0.6\n",
    "E5=ncr(10,4)*pow(0.4,4)*pow(0.6,6)\n",
    "E5"
   ]
  },
  {
   "cell_type": "code",
   "execution_count": 20,
   "metadata": {},
   "outputs": [
    {
     "data": {
      "text/plain": [
       "0.16728975359999998"
      ]
     },
     "execution_count": 20,
     "metadata": {},
     "output_type": "execute_result"
    }
   ],
   "source": [
    "## For 2nd P(X=0)+P(X=1)+P(X=2)\n",
    "E6=0\n",
    "for i in range(0,3):\n",
    "    E6+=ncr(10,i)*pow(0.4,i)*pow(0.6,10-i)\n",
    "E6"
   ]
  },
  {
   "cell_type": "code",
   "execution_count": 39,
   "metadata": {},
   "outputs": [
    {
     "data": {
      "text/plain": [
       "0.945"
      ]
     },
     "execution_count": 39,
     "metadata": {},
     "output_type": "execute_result"
    }
   ],
   "source": [
    "p1=0.85*0.6\n",
    "p2=0.6*0.3\n",
    "p3=0.3*0.85\n",
    "all_p=0.85*0.3*0.6\n",
    "p1+p2+p3"
   ]
  },
  {
   "cell_type": "code",
   "execution_count": 44,
   "metadata": {},
   "outputs": [
    {
     "data": {
      "text/plain": [
       "0.00608252070404931"
      ]
     },
     "execution_count": 44,
     "metadata": {},
     "output_type": "execute_result"
    }
   ],
   "source": [
    "### 7 normal,5-intermediate,2-high\n",
    "### P(A U B U C)=P(A)+P(B)+P(C)-P(AintB)-P(BintC)-P(CintA)+P(AintBintC)\n",
    "P_A=ncr(10,7)*pow(0.85,7)*pow(0.15,3)\n",
    "P_B=ncr(10,5)*pow(0.6,5)*pow(0.4,5)\n",
    "P_C=ncr(10,2)*pow(0.3,2)*pow(0.7,8)\n",
    "P_A*P_B*P_C"
   ]
  },
  {
   "cell_type": "code",
   "execution_count": 38,
   "metadata": {},
   "outputs": [
    {
     "data": {
      "text/plain": [
       "0.8213167060590538"
      ]
     },
     "execution_count": 38,
     "metadata": {},
     "output_type": "execute_result"
    }
   ],
   "source": [
    "P_A_B=ncr(10,5)*pow(p1,5)*pow(1-p1,5)\n",
    "P_B_C=ncr(10,2)*pow(p2,2)*pow(1-p2,8)\n",
    "P_C_A=ncr(10,2)*pow(p3,2)*pow(1-p3,8)\n",
    "P_A_B+P_B_C+P_C_A"
   ]
  },
  {
   "cell_type": "code",
   "execution_count": 41,
   "metadata": {},
   "outputs": [
    {
     "data": {
      "text/plain": [
       "0.2790375551213251"
      ]
     },
     "execution_count": 41,
     "metadata": {},
     "output_type": "execute_result"
    }
   ],
   "source": [
    "P_A_B_C=ncr(10,2)*pow(all_p,2)*pow(1-all_p,8)\n",
    "P_A_B_C"
   ]
  },
  {
   "cell_type": "code",
   "execution_count": 43,
   "metadata": {},
   "outputs": [
    {
     "data": {
      "text/plain": [
       "0.02168713511617737"
      ]
     },
     "execution_count": 43,
     "metadata": {},
     "output_type": "execute_result"
    }
   ],
   "source": [
    "final=P_A+P_B+P_C-(P_A_B+P_B_C+P_C_A)+P_A_B_C\n",
    "final"
   ]
  },
  {
   "cell_type": "markdown",
   "metadata": {},
   "source": [
    "### **CDF AND PDF(Probablity Distribution Function)**"
   ]
  },
  {
   "cell_type": "markdown",
   "metadata": {},
   "source": [
    "![title](img/cdf.png)"
   ]
  },
  {
   "cell_type": "markdown",
   "metadata": {},
   "source": [
    "![title](img/probdistfunc.png)\n",
    "\n",
    "For example, the area under the curve between 20, the smallest possible value of X, and 28 gives the cumulative probability for X, which is equal to 28.\n",
    "- The total area under the curve will always be equal to 1.\n",
    "- Area under the curve at any X will give the cumulative probablity at that position."
   ]
  },
  {
   "cell_type": "markdown",
   "metadata": {},
   "source": [
    "![title](img/uniform_pdf.png)\n",
    "Clearly, this area is the area of a rectangle with length 10 and unknown height h. Hence, you can say that 10 * h = 1, which gives us h = 0.1. So, the value of the PDF for all values between 0 and 10 is 0.1."
   ]
  },
  {
   "cell_type": "markdown",
   "metadata": {},
   "source": [
    "### **NORMAL DISTRIBUTION** ##\n",
    "![title](img/normal_dist.png)\n",
    "\n",
    "##### **IMPORTANT NOTE-Mean shifts the curve from left to right as it increases or decreases whereas 'standard deviation' is involved in flattening of the curve,the higher the standard deviation the more flattened the curve will be**\n"
   ]
  },
  {
   "cell_type": "markdown",
   "metadata": {},
   "source": [
    "#  **SAMPLING AND CENTRAL LIMIT THEOREM**\n",
    "\n"
   ]
  },
  {
   "cell_type": "markdown",
   "metadata": {},
   "source": [
    "\n",
    "\n",
    "![title](img/central_limit2.png)\n",
    "\n",
    "**The mathematics involved in interval estimate:**\n",
    "\n",
    "- As discussed above, the normal variate of the sampling distribution of a sample means is: \n",
    "\n",
    "Z* = (X̅ - μ)/(σ/√n)\n",
    "\n",
    "- Rearranging the equation above, you get:  \n",
    "\n",
    "(X̅ - μ) = Z*(σ/√n)\n",
    "\n",
    "- Since Z can be both positive and negative (for a random variable smaller than the mean), you have:\n",
    "\n",
    "(X̅ - μ) = ± Z*(σ/√n)\n",
    "\n",
    "- The equation above can be rearranged to:  \n",
    "\n",
    "μ= X̅ ± ( Z*(σ/√n))\n",
    "\n",
    " \n",
    "- So, you can say that the population mean μ will lie between:\n",
    "\n",
    "X̅ - (Z*(σ/√n)) <    μ    < X̅ + ( Z*(σ/√n))"
   ]
  },
  {
   "cell_type": "code",
   "execution_count": 13,
   "metadata": {},
   "outputs": [
    {
     "data": {
      "text/html": [
       "<div>\n",
       "<style scoped>\n",
       "    .dataframe tbody tr th:only-of-type {\n",
       "        vertical-align: middle;\n",
       "    }\n",
       "\n",
       "    .dataframe tbody tr th {\n",
       "        vertical-align: top;\n",
       "    }\n",
       "\n",
       "    .dataframe thead th {\n",
       "        text-align: right;\n",
       "    }\n",
       "</style>\n",
       "<table border=\"1\" class=\"dataframe\">\n",
       "  <thead>\n",
       "    <tr style=\"text-align: right;\">\n",
       "      <th></th>\n",
       "      <th>Sample No.</th>\n",
       "      <th>Sample Mean</th>\n",
       "    </tr>\n",
       "  </thead>\n",
       "  <tbody>\n",
       "    <tr>\n",
       "      <th>0</th>\n",
       "      <td>1</td>\n",
       "      <td>3.2</td>\n",
       "    </tr>\n",
       "    <tr>\n",
       "      <th>1</th>\n",
       "      <td>2</td>\n",
       "      <td>2.6</td>\n",
       "    </tr>\n",
       "    <tr>\n",
       "      <th>2</th>\n",
       "      <td>3</td>\n",
       "      <td>2.8</td>\n",
       "    </tr>\n",
       "    <tr>\n",
       "      <th>3</th>\n",
       "      <td>4</td>\n",
       "      <td>2.0</td>\n",
       "    </tr>\n",
       "    <tr>\n",
       "      <th>4</th>\n",
       "      <td>5</td>\n",
       "      <td>3.0</td>\n",
       "    </tr>\n",
       "  </tbody>\n",
       "</table>\n",
       "</div>"
      ],
      "text/plain": [
       "   Sample No.  Sample Mean\n",
       "0           1          3.2\n",
       "1           2          2.6\n",
       "2           3          2.8\n",
       "3           4          2.0\n",
       "4           5          3.0"
      ]
     },
     "execution_count": 13,
     "metadata": {},
     "output_type": "execute_result"
    }
   ],
   "source": [
    "import pandas as pd\n",
    "import math\n",
    "df2=pd.read_csv(\"dataset/Inferntial Statistics - UpGrad Samples.csv\")\n",
    "df2.head()"
   ]
  },
  {
   "cell_type": "code",
   "execution_count": 14,
   "metadata": {},
   "outputs": [
    {
     "data": {
      "text/plain": [
       "2.3480000000000003"
      ]
     },
     "execution_count": 14,
     "metadata": {},
     "output_type": "execute_result"
    }
   ],
   "source": [
    "mean=df2['Sample Mean'].sum()/len(df2)\n",
    "mean"
   ]
  },
  {
   "cell_type": "code",
   "execution_count": 16,
   "metadata": {},
   "outputs": [
    {
     "data": {
      "text/plain": [
       "0.4248482081873478"
      ]
     },
     "execution_count": 16,
     "metadata": {},
     "output_type": "execute_result"
    }
   ],
   "source": [
    "sd=pow((mean-df2['Sample Mean']),2)/len(df2)\n",
    "math.sqrt(sd.sum())"
   ]
  },
  {
   "cell_type": "markdown",
   "metadata": {},
   "source": [
    "#### **SAMPLING AND SAMPLING DISTRIBUTION**"
   ]
  },
  {
   "cell_type": "markdown",
   "metadata": {},
   "source": [
    "So, there are two important properties of a sampling distribution of the mean:\n",
    "\n",
    "- Sampling distribution’s mean (\n",
    "μ\n",
    "¯\n",
    "X\n",
    ") = Population mean (μ)\n",
    "\n",
    "- Sampling distribution’s standard deviation (Standard error) = \n",
    "σ\n",
    "√\n",
    "n\n",
    ", where σ is the population’s standard deviation and n is the sample size"
   ]
  },
  {
   "cell_type": "markdown",
   "metadata": {},
   "source": [
    "IMPORTANT-- If there are 2 samples n1 and n2 where n1>n2 then sd1<sd2 for the samples as the curve is narrower when samples are more"
   ]
  },
  {
   "cell_type": "markdown",
   "metadata": {},
   "source": [
    "#### **CENTRAL LIMIT THEOREM**"
   ]
  },
  {
   "cell_type": "markdown",
   "metadata": {},
   "source": [
    "So, the central limit theorem says that for any kind of data, provided a high number of samples has been taken, the following properties hold true:\n",
    "\n",
    "- Sampling distribution’s mean (\n",
    "μ\n",
    "¯\n",
    "X\n",
    ") = Population mean (μ),\n",
    "\n",
    "- Sampling distribution’s standard deviation (standard error) = \n",
    "σ\n",
    "√\n",
    "n\n",
    ", and\n",
    "\n",
    "- For n > 30, the sampling distribution becomes a normal distribution.\n",
    "\n",
    "**FOR DEMO ON CLT You can refer the file CLT_DEMO**"
   ]
  },
  {
   "cell_type": "markdown",
   "metadata": {},
   "source": [
    "### **AFTER ANALYSING THE DEMO** "
   ]
  },
  {
   "cell_type": "markdown",
   "metadata": {},
   "source": [
    "### **When population mean is 1)Normal Distribution 2)Exponential Distribution**\n",
    "![title](img/sampling1.jpg)\n"
   ]
  },
  {
   "cell_type": "markdown",
   "metadata": {},
   "source": [
    "### **As sample size increases the sampling distribution tends to shift to normal distribution**\n",
    "![title](img/sampling2.jpg)"
   ]
  },
  {
   "cell_type": "markdown",
   "metadata": {},
   "source": [
    "# **Estimating Mean Using CLT**?"
   ]
  },
  {
   "cell_type": "markdown",
   "metadata": {},
   "source": [
    "- let’s say that you have a sample with sample size n, mean \\bar{X} and standard deviation S. Now, the y% confidence interval (i.e., the confidence interval corresponding to a y% confidence level) for \\mu would be given by the range:\n",
    "\n",
    "- **Confidence interval** = (\\bar{X}-\\frac{Z^{*}S}{\\sqrt{n}}, \\bar{X}+\\frac{Z^{*}S}{\\sqrt{n}}),\n",
    "    where, Z* is the Z-score associated with a y% confidence level. In other words, the population mean and the sample mean differ by a margin of error given by \\frac{Z^{*}S}{\\sqrt{n}}.\n",
    "\n",
    " \n",
    "\n",
    "Some commonly used Z* values are given below:\n",
    "\n",
    "![title](img/Z_image.png)"
   ]
  },
  {
   "cell_type": "markdown",
   "metadata": {},
   "source": [
    " The three steps to follow are as follows:\n",
    "\n",
    "- First, take a sample of size n.\n",
    "\n",
    "- Then, find the mean \n",
    "¯\n",
    "X\n",
    " and standard deviation S of this sample.\n",
    "\n",
    "- Now, you can say that for a y% confidence level, the confidence interval for the population mean \\mu is given by (\\bar{X}-\\frac{Z^{*}S}{\\sqrt{n}}, \\bar{X}+\\frac{Z^{*}S}{\\sqrt{n}})."
   ]
  },
  {
   "cell_type": "markdown",
   "metadata": {},
   "source": [
    "**Q. Why we learnt CLT?**\n",
    "\n",
    "**Ans** The CLT lets you assume that the sample mean would be normally distributed, with mean \\mu and standard deviation \\frac{\\sigma}{\\sqrt{n}} (approx. \\frac{S}{\\sqrt{n}}). Using this assumption, it is possible to find the margin of error, confidence interval, etc.\n",
    "\n",
    "\n",
    "Thus, you learnt about sampling distributions so that you could learn more about the CLT and be able to make all the assumptions as stated above."
   ]
  },
  {
   "cell_type": "markdown",
   "metadata": {},
   "source": [
    "### **FACEBOOK CASE STUDY TO CALCULATE MARGIN ERROR FOR POPULATION MEAN**\n",
    "\n",
    "Recall the Facebook example discussed in the last session. Let’s find the 90% confidence interval (confidence interval for a 90% confidence level) for that case.\n",
    "\n",
    " \n",
    "\n",
    "Recall that 50.5% of the 10,000 people surveyed preferred feature B to feature A. So, if X = the proportion of people that prefer feature B to feature A, then, for this sample, \\bar{X} = 0.505 (50.5%) and n = 10,000. In addition to this, you've been told that the sample’s standard deviation S = 0.2(20%).\n",
    "\n",
    " \n",
    "\n",
    "Also, you know that the actual population mean \\mu lies between \\bar{X} + margin of error. However, now it is vital for us to find this margin of error.\n",
    "\n",
    " \n",
    "\n",
    "If this margin of error is, say, 1%, then that means that the population mean \\mu, which is the proportion of people that prefer feature B to feature A, lies between the range (50.5 - 1)% to (50.5 + 1)%, i.e.,  49.5 % to 51.5%. This means that you cannot say with certainty that \\mu would be more than 50%. So, even though the proportion of people that prefer feature B to feature A is more than 50% in our sample, you would not be able to say with certainty that this proportion would be more than 50% for the entire population.\n",
    "\n",
    " \n",
    "\n",
    "On the other hand, if the margin of error is, say, 0.3%, then you will be able to say that the population mean lies within (50.5 - 0.3)% and (50.5 + 0.3)%, i.e., 50.2% to 50.8%. So, you will be able to say with certainty that the proportion of people that prefer feature B to feature A is more than 50% in our sample and for the entire population too.\n",
    "\n",
    " \n",
    "\n",
    "- Now, the margin of error corresponding to a 90% confidence level would be given by \\frac{Z^{*}S}{\\sqrt{n}} = \\frac{1.65*0.2}{\\sqrt{10,000}} = 0.0033 (0.33%), and the population mean lies between 50.17% and 50.83%.\n",
    "\n",
    "\n",
    "Hence, you can say that feature B should replace feature A with 90% confidence.\n",
    "\n",
    "- For 95% confidence  -- value lies in {50.11%,50.89%}\n",
    "\n",
    "Hence, you can say that feature B should replace feature A with 95% confidence.\n",
    "\n",
    "- For 99% confidence -- value lies in {49.98%,51.02%}\n",
    "\n",
    "Hence in this case we are not sure if we can have a 99% confidence as mean is below 50%."
   ]
  },
  {
   "cell_type": "markdown",
   "metadata": {},
   "source": [
    "## **POWAI FLATS CASE STUDY**"
   ]
  },
  {
   "cell_type": "code",
   "execution_count": 7,
   "metadata": {},
   "outputs": [
    {
     "data": {
      "text/html": [
       "<div>\n",
       "<style scoped>\n",
       "    .dataframe tbody tr th:only-of-type {\n",
       "        vertical-align: middle;\n",
       "    }\n",
       "\n",
       "    .dataframe tbody tr th {\n",
       "        vertical-align: top;\n",
       "    }\n",
       "\n",
       "    .dataframe thead th {\n",
       "        text-align: right;\n",
       "    }\n",
       "</style>\n",
       "<table border=\"1\" class=\"dataframe\">\n",
       "  <thead>\n",
       "    <tr style=\"text-align: right;\">\n",
       "      <th></th>\n",
       "      <th>S. No.</th>\n",
       "      <th>Monthly Rent</th>\n",
       "    </tr>\n",
       "  </thead>\n",
       "  <tbody>\n",
       "    <tr>\n",
       "      <th>0</th>\n",
       "      <td>1</td>\n",
       "      <td>44000</td>\n",
       "    </tr>\n",
       "    <tr>\n",
       "      <th>1</th>\n",
       "      <td>2</td>\n",
       "      <td>49800</td>\n",
       "    </tr>\n",
       "    <tr>\n",
       "      <th>2</th>\n",
       "      <td>3</td>\n",
       "      <td>45400</td>\n",
       "    </tr>\n",
       "    <tr>\n",
       "      <th>3</th>\n",
       "      <td>4</td>\n",
       "      <td>40700</td>\n",
       "    </tr>\n",
       "    <tr>\n",
       "      <th>4</th>\n",
       "      <td>5</td>\n",
       "      <td>43900</td>\n",
       "    </tr>\n",
       "  </tbody>\n",
       "</table>\n",
       "</div>"
      ],
      "text/plain": [
       "   S. No.  Monthly Rent\n",
       "0       1         44000\n",
       "1       2         49800\n",
       "2       3         45400\n",
       "3       4         40700\n",
       "4       5         43900"
      ]
     },
     "execution_count": 7,
     "metadata": {},
     "output_type": "execute_result"
    }
   ],
   "source": [
    "import pandas as pd\n",
    "import math\n",
    "df1=pd.read_csv(\"dataset/Powai_Flats.csv\")\n",
    "df1.head()"
   ]
  },
  {
   "cell_type": "code",
   "execution_count": 3,
   "metadata": {},
   "outputs": [
    {
     "data": {
      "text/plain": [
       "(200, 2)"
      ]
     },
     "execution_count": 3,
     "metadata": {},
     "output_type": "execute_result"
    }
   ],
   "source": [
    "df1.shape"
   ]
  },
  {
   "cell_type": "code",
   "execution_count": 5,
   "metadata": {},
   "outputs": [
    {
     "data": {
      "text/html": [
       "<div>\n",
       "<style scoped>\n",
       "    .dataframe tbody tr th:only-of-type {\n",
       "        vertical-align: middle;\n",
       "    }\n",
       "\n",
       "    .dataframe tbody tr th {\n",
       "        vertical-align: top;\n",
       "    }\n",
       "\n",
       "    .dataframe thead th {\n",
       "        text-align: right;\n",
       "    }\n",
       "</style>\n",
       "<table border=\"1\" class=\"dataframe\">\n",
       "  <thead>\n",
       "    <tr style=\"text-align: right;\">\n",
       "      <th></th>\n",
       "      <th>S. No.</th>\n",
       "      <th>Monthly Rent</th>\n",
       "    </tr>\n",
       "  </thead>\n",
       "  <tbody>\n",
       "    <tr>\n",
       "      <th>count</th>\n",
       "      <td>200.000000</td>\n",
       "      <td>200.000000</td>\n",
       "    </tr>\n",
       "    <tr>\n",
       "      <th>mean</th>\n",
       "      <td>100.500000</td>\n",
       "      <td>45571.000000</td>\n",
       "    </tr>\n",
       "    <tr>\n",
       "      <th>std</th>\n",
       "      <td>57.879185</td>\n",
       "      <td>7457.521851</td>\n",
       "    </tr>\n",
       "    <tr>\n",
       "      <th>min</th>\n",
       "      <td>1.000000</td>\n",
       "      <td>30100.000000</td>\n",
       "    </tr>\n",
       "    <tr>\n",
       "      <th>25%</th>\n",
       "      <td>50.750000</td>\n",
       "      <td>41250.000000</td>\n",
       "    </tr>\n",
       "    <tr>\n",
       "      <th>50%</th>\n",
       "      <td>100.500000</td>\n",
       "      <td>44950.000000</td>\n",
       "    </tr>\n",
       "    <tr>\n",
       "      <th>75%</th>\n",
       "      <td>150.250000</td>\n",
       "      <td>49825.000000</td>\n",
       "    </tr>\n",
       "    <tr>\n",
       "      <th>max</th>\n",
       "      <td>200.000000</td>\n",
       "      <td>59800.000000</td>\n",
       "    </tr>\n",
       "  </tbody>\n",
       "</table>\n",
       "</div>"
      ],
      "text/plain": [
       "           S. No.  Monthly Rent\n",
       "count  200.000000    200.000000\n",
       "mean   100.500000  45571.000000\n",
       "std     57.879185   7457.521851\n",
       "min      1.000000  30100.000000\n",
       "25%     50.750000  41250.000000\n",
       "50%    100.500000  44950.000000\n",
       "75%    150.250000  49825.000000\n",
       "max    200.000000  59800.000000"
      ]
     },
     "execution_count": 5,
     "metadata": {},
     "output_type": "execute_result"
    }
   ],
   "source": [
    "df1.describe()  ## sample mean is 45571"
   ]
  },
  {
   "cell_type": "code",
   "execution_count": 8,
   "metadata": {},
   "outputs": [
    {
     "data": {
      "text/plain": [
       "870.0883888676598"
      ]
     },
     "execution_count": 8,
     "metadata": {},
     "output_type": "execute_result"
    }
   ],
   "source": [
    "### 90% confidence interval where sd=7457.52\n",
    "## Z*=1.65\n",
    "interval=1.65*7457.52/math.sqrt(200)\n",
    "interval"
   ]
  },
  {
   "cell_type": "code",
   "execution_count": 10,
   "metadata": {},
   "outputs": [
    {
     "name": "stdout",
     "output_type": "stream",
     "text": [
      "46441.08 44700.92\n"
     ]
    }
   ],
   "source": [
    "print(45571+870.08,45571-870.08)"
   ]
  },
  {
   "cell_type": "code",
   "execution_count": 12,
   "metadata": {},
   "outputs": [
    {
     "name": "stdout",
     "output_type": "stream",
     "text": [
      "46931.50184441125 44210.49815558875\n"
     ]
    }
   ],
   "source": [
    "###99% confidence Z=2.58\n",
    "interval2=2.58*7457.52/math.sqrt(200)\n",
    "print(45571+interval2,45571-interval2)"
   ]
  },
  {
   "cell_type": "code",
   "execution_count": 13,
   "metadata": {},
   "outputs": [
    {
     "name": "stdout",
     "output_type": "stream",
     "text": [
      "46604.55954071552 44537.44045928448\n"
     ]
    }
   ],
   "source": [
    "###95% confidence Z=1.96\n",
    "interval2=1.96*7457.52/math.sqrt(200)\n",
    "print(45571+interval2,45571-interval2)"
   ]
  },
  {
   "cell_type": "markdown",
   "metadata": {},
   "source": [
    "## **TYPES OF SAMPLING**\n",
    "\n",
    "**Random sampling**: In this kind of sampling, each element of the population has the same probability of getting selected in the sample.\n",
    "- Simple random sampling with replacement: In simple random sampling with replacement, for the creation of a sample size n, you select an element from the population and then return it to the population. This procedure is repeated n times. Thus, each element of the population can be selected more than once in a sample. This is used when the population size is small.\n",
    "- Simple random sampling without replacement: In simple random sampling without replacement, for the creation of a sample size n, you select an element from the population and don’t return it to the population. The selection of elements from the population is repeated n times. This is used when the population size is large.\n",
    "- Stratified random sampling: In stratified random sampling, the population is divided into strata on the basis of common characteristics. The elements are then selected from these strata.\n",
    "- Cluster sampling: In cluster sampling, the population is divided into clusters, and then, a simple random sample of these clusters is selected.\n",
    "Systematic sampling: In systematic sampling, a starting point is selected in the population, and then, the elements are selected at regular, fixed intervals.\n",
    " \n",
    "\n",
    "**Non-random sampling**: In this kind of sampling, each element of the population does not have the same probability of getting selected in the sample.\n",
    "- Convenience sampling: In convenience sampling, the researcher selects the elements from the population on the basis of the convenient accessibility of these elements.\n",
    "Judgemental sampling: In judgemental sampling, the researcher selects the elements on the basis of his judgement and bias.\n",
    "- Quota sampling: The population is divided into groups or quotas, on the basis of which you select the sample. Quota sampling is, to a certain extent, similar to random sampling; the sampling procedure is more or less the same in both the cases, except the quota is fixed in quota sampling. That is,  you don't consider the entire population, just a section of it to create a quota.\n",
    "- Snowball sampling: In the case of snowball sampling, a small sample is first selected, say a sample of five people. Then, each of the five members can suggest five names, and those five can suggest five more each. This creates a snowball effect."
   ]
  },
  {
   "cell_type": "code",
   "execution_count": 10,
   "metadata": {},
   "outputs": [
    {
     "data": {
      "text/plain": [
       "32.614285714285714"
      ]
     },
     "execution_count": 10,
     "metadata": {},
     "output_type": "execute_result"
    }
   ],
   "source": []
  },
  {
   "cell_type": "code",
   "execution_count": null,
   "metadata": {},
   "outputs": [],
   "source": []
  },
  {
   "cell_type": "code",
   "execution_count": null,
   "metadata": {},
   "outputs": [],
   "source": []
  }
 ],
 "metadata": {
  "kernelspec": {
   "display_name": "Python 3",
   "language": "python",
   "name": "python3"
  },
  "language_info": {
   "codemirror_mode": {
    "name": "ipython",
    "version": 3
   },
   "file_extension": ".py",
   "mimetype": "text/x-python",
   "name": "python",
   "nbconvert_exporter": "python",
   "pygments_lexer": "ipython3",
   "version": "3.7.0"
  }
 },
 "nbformat": 4,
 "nbformat_minor": 2
}
