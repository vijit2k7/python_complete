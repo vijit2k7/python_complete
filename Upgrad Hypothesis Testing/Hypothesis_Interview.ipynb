{
 "cells": [
  {
   "cell_type": "markdown",
   "metadata": {},
   "source": [
    "# **HYPOTHESIS INTERVIEW QUESTIONS**"
   ]
  },
  {
   "cell_type": "markdown",
   "metadata": {},
   "source": [
    "### **Q1. How to select a sample?**\n",
    " **Ans**. In order to make good inference about the population the sample should be diverse and random.\n",
    "       We need to be sure that the given sample is a random representative sample."
   ]
  },
  {
   "cell_type": "markdown",
   "metadata": {},
   "source": [
    "### **Q2. Why do we consider using inferential statistics when we have understood a data sample using descriptive statistics?**\n",
    " **Ans**. 1.Descriptive Statistics is a discipline which is concerned with describing the population under study. Inferential Statistics is a type of statistics that focuses on   drawing conclusions about the population, on the basis of sample analysis and observation.\n",
    "    \n",
    "2.Descriptive Statistics collects, organises, analyzes and presents data in a meaningful way. On the contrary, Inferential Statistics, compares data, test hypothesis and make predictions of the future outcomes."
   ]
  },
  {
   "cell_type": "markdown",
   "metadata": {},
   "source": [
    "### **Q3. H0=> avg battery life<=1year,H1=> avg battery life>1 year. Which type of error would you like to minimise here-Type1 or Type2?Should we use high confidence interval or lower?**\n",
    " **Ans**. TYPE-1 Error-- if we incorrectly reject a null hypothesis when its correct ie H0 -- true and still we reject it.\n",
    "         TYPE-2 ERROR-- if we fail to reject the null hypothesis when its incorrect ie H0 -- false and still we dont reject it.\n",
    "         \n",
    "         \n",
    "       - Here we will minimise Type-I error because if the battery life < 1 year and still we reject it ,it may cause loss of life for the patients.\n",
    "       - The confidence is given by 1-a so to maximize confidence we must minimise a hence confidence interval should be higher around 99%."
   ]
  },
  {
   "cell_type": "markdown",
   "metadata": {},
   "source": [
    "### **Q4. Lets say you work for an e comm company and want to check whether changing the color of the go-kart button of your website from blue to green increases the conversion rates of visitors to become customers or not?**\n",
    " **Ans**. A/B Testing is trying to achieve a better user experience for a customer. This can lead to an increased conversion rate. We can divide our customer base into **control and Variation groups**. The variation group can then further be divided into 2 further groups where the change is implanted and where it is kept as the current. We can then compare the data as to how many people buy the products of the website and form a conclusion as to if there is any effect of the change in the color of the Go TO Cart button.\n",
    " \n",
    " - In the above method the target or variation group is exposed to the change whereas control group is not exposed to the change.\n",
    " - Assign 0 if he didnt become the customer and 1 if he becomes the customer.\n",
    " - **Hypothesis** H0-Change in the button didnt convert any customer ,H1 = opp\n",
    " - We will use 2 sample proportion test for this one\n",
    " - Reject the hypothesis according to the p-value."
   ]
  },
  {
   "cell_type": "markdown",
   "metadata": {},
   "source": [
    "## **Chi-Squared Test**\n",
    "\n",
    "- Chi-Squared Test is one of the ways in which we try to conduct hypothesis tests with categorical variables to see if there is an effect of one on another.\n",
    "\n",
    " \n",
    "\n",
    "- The Chi-Squared test of independence is used to determine whether or not there is a significant relationship between two nominal (categorical) variables.  \n",
    "\n",
    " \n",
    "\n",
    "- For example, a researcher wants to examine the relationship between gender (male vs female) and the chances of developing Alzheimer's disease. The chi-squared test of independence can be used to examine this relationship. The null hypothesis (\n",
    "H\n",
    "0\n",
    ") for this test is that there is no relationship between gender and life expectancy, and the alternative hypothesis is that there is a relationship between gender and life expectancy.\n",
    "\n",
    "The expected value is calculated by assuming that the null hypothesis is correct. So, if you select a sample of, say, 100 Alzheimer’s patients, 50 should be men and 50 should be women.\n",
    "\n",
    "Putting the expected values in the table above, you get:  \n",
    "\n",
    " \n",
    "|  Value | Male | Female|\n",
    "| :- | :- | :- |\n",
    "| Expected Value | 50 | 50 |\n",
    "| Sample Value | - | - |\n",
    " \t\n",
    "\n",
    "\n",
    "Let’s say the sample value comes out to be a bit different, and in a sample of 100 Alzheimer’s patients, 60 are men and 40 are women.\n",
    "\n",
    " \n",
    " \n",
    "|  Value | Male | Female|\n",
    "| :- | :- | :- |\n",
    "| Expected Value | 50 | 50 |\n",
    "| Sample Value | 60 | 40 |\n",
    " \n",
    "\n",
    "The test statistic for the chi-squared test is equal to\n",
    "\n",
    " \n",
    "\n",
    "χ\n",
    "2\n",
    "=\n",
    "Σ\n",
    "(\n",
    "O\n",
    "−\n",
    "E\n",
    ")\n",
    "2\n",
    "E\n",
    "\n",
    " \n",
    "\n",
    "where \n",
    "O\n",
    " is the observed sample value and \n",
    "E\n",
    " is the expected value.\n",
    "\n",
    " \n",
    "\n",
    "So, our test statistic will be equal to:  \n",
    "\n",
    " \n",
    "\n",
    "χ\n",
    "2\n",
    "=\n",
    "10\n",
    "2\n",
    "/\n",
    "50\n",
    "+\n",
    "10\n",
    "2\n",
    "/\n",
    "50\n",
    "=\n",
    "4\n",
    "\n",
    " \n",
    "\n",
    "Let’s select the level of significance as 5%, or 0.05.\n",
    "\n",
    " \n",
    "\n",
    "Based on the degrees of freedom and the given test statistic we compare it with the given level of significance and check if the p-value is greater or not. And then, on that basis, take a decision to reject or not reject the null hypothesis."
   ]
  },
  {
   "cell_type": "markdown",
   "metadata": {},
   "source": [
    "https://www.youtube.com/watch?v=jABsbNBPXIk&feature=youtu.be"
   ]
  },
  {
   "cell_type": "markdown",
   "metadata": {},
   "source": [
    "## **ANOVA**\n",
    "\n",
    "- Two sample t-tests can validate a hypothesis containing only two groups at a time. For samples involving three or more groups, the t-test becomes tedious, as you have to perform the tests for each combination of the groups. Also, the possibility of a type-1 error increases in this process. In such cases, you can use ANOVA.\n",
    "\n",
    " \n",
    "\n",
    "- Analysis of variance (ANOVA) can determine whether the means of three or more groups are different. ANOVA uses F-tests to statistically test the equality -of means.\n",
    "\n",
    " \n",
    "\n",
    "- To understand how ANOVA is applied, let’s go over a simple case:  \n",
    "\n",
    " \n",
    "\n",
    "- A test was conducted at a workplace, and the feedback on the three e-commerce platforms was recorded in a data set, which is as follows:\n",
    "\n",
    "|  Amazon | Flipkart | SnapDeal|\n",
    "| :- | :- | :- |\n",
    "| 7.5 | 7 | 5 |\n",
    "| 8.5 | 9.5 | 7.5 |\n",
    "| 6 | 10 | 8.5 |\n",
    "| 10 | 6 | 3 |\n",
    "| 8.5 | 7.5 | 6 |\n",
    "| 8 | 8.5 | 5 |\n",
    "| 8 | 10 | 7 |\n",
    "| 6 | 6.5 | - |\n",
    "| 10 | 9 | - |\n",
    "| 9.5 | 6.5 | - |\n",
    "| 6.5 | 10 | - |\n",
    "\n",
    "**H0--> All the platforms are equally popular **\n",
    "\n",
    "**H1---> Atleast one platform has different popularity from others**\n",
    "\n",
    "H\n",
    "0\n",
    ":\n",
    "μ\n",
    "1\n",
    "=\n",
    "μ\n",
    "2\n",
    "=\n",
    "μ\n",
    "3\n",
    ".\n",
    ".\n",
    ".\n",
    ".\n",
    "=\n",
    "μ\n",
    "k\n",
    " "
   ]
  },
  {
   "cell_type": "markdown",
   "metadata": {},
   "source": [
    "**F-Statistics**\n",
    "The test statistic that we use here is called the F-statistic, which helps us in comparing the variances. In order to understand the computations, please check the following link containing -\n",
    "https://www.khanacademy.org/math/statistics-probability/analysis-of-variance-anova-library"
   ]
  },
  {
   "cell_type": "code",
   "execution_count": null,
   "metadata": {},
   "outputs": [],
   "source": []
  }
 ],
 "metadata": {
  "kernelspec": {
   "display_name": "Python 3",
   "language": "python",
   "name": "python3"
  },
  "language_info": {
   "codemirror_mode": {
    "name": "ipython",
    "version": 3
   },
   "file_extension": ".py",
   "mimetype": "text/x-python",
   "name": "python",
   "nbconvert_exporter": "python",
   "pygments_lexer": "ipython3",
   "version": "3.7.0"
  }
 },
 "nbformat": 4,
 "nbformat_minor": 2
}
