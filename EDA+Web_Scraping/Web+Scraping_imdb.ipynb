{
 "cells": [
  {
   "cell_type": "markdown",
   "metadata": {},
   "source": [
    "# Web Scraping:\n",
    "1. Import the libraries and classes:\n",
    "    - urllib request.\n",
    "    - BeautifulSoup.\n",
    "2. Steps:\n",
    "\n",
    "\n",
    "Web scraping majorly involves 4 steps:\n",
    "\n",
    "- HTML loading and reading: It includes the loading of the HTML page into Python. The library which is used here to request for the HTML page is the “request” library. \n",
    "-  HTML parsing: This step involves the process of presentation of HTML code into a readable format. One of the important classes of Python called “BeautifulSoup” is used > here to parse the data.\n",
    "- Data extraction: This step involves the extraction of data from the web page using HTML elements like tags and attributes.\n",
    "- Transformation into required format: Once you have the data, you can save it into your required format, like CSV."
   ]
  },
  {
   "cell_type": "code",
   "execution_count": 1,
   "metadata": {},
   "outputs": [],
   "source": [
    "# Import useful libraries and classes.\n",
    "from urllib.request import urlopen as uReq\n",
    "from bs4 import BeautifulSoup as soup"
   ]
  },
  {
   "cell_type": "code",
   "execution_count": 2,
   "metadata": {},
   "outputs": [],
   "source": [
    "#html upload\n",
    "my_url=  \"http://www.imdb.com/search/title?sort=num_votes,desc&start=1&title_type=feature&year=1950,2012\"\n",
    "uClient= uReq(my_url)\n",
    "page_html= uClient.read()\n",
    "uClient.close()"
   ]
  },
  {
   "cell_type": "code",
   "execution_count": 6,
   "metadata": {},
   "outputs": [
    {
     "data": {
      "text/plain": [
       "b'\\n\\n\\n<!DOCTYPE html>\\n<html\\n    xmlns:og=\"http://ogp.me/ns#\"\\n    xmlns:fb=\"http://www.facebook.com/2008/fbml\">\\n    <head>\\n         \\n        <meta charset=\"utf-8\">\\n        <meta http-equiv=\"X-UA-Compatible\" content=\"IE=edge\">\\n\\n    <meta name=\"apple-itunes-app\" content=\"app-id=342792525, app-argument=imdb:///?src=mdot\">\\n\\n\\n\\n        <script type=\"text/javascript\">var IMDbTimer={starttime: new Date().getTime(),pt:\\'java\\'};</script>\\n\\n<script>\\n    if (typeof uet == \\'function\\') {\\n      uet(\"bb\", \"LoadTitle\", {wb: 1});\\n    }\\n</script>\\n  <script>(function(t){ (t.events = t.events || {})[\"csm_head_pre_title\"] = new Date().getTime(); })(IMDbTimer);</script>\\n        <title>Feature Film,\\nReleased between 1950-01-01 and 2012-12-31\\n(Sorted by Number of Votes Descending) - IMDb</title>\\n  <script>(function(t){ (t.events = t.events || {})[\"csm_head_post_title\"] = new Date().getTime(); })(IMDbTimer);</script>\\n<script>\\n    if (typeof uet == \\'function\\') {\\n      uet(\"be\", \"LoadTitle\", {wb: 1});\\n    }\\n</script>\\n<'"
      ]
     },
     "execution_count": 6,
     "metadata": {},
     "output_type": "execute_result"
    }
   ],
   "source": [
    "page_html[0:1000]"
   ]
  },
  {
   "cell_type": "code",
   "execution_count": 10,
   "metadata": {},
   "outputs": [
    {
     "data": {
      "text/plain": [
       "bs4.BeautifulSoup"
      ]
     },
     "execution_count": 10,
     "metadata": {},
     "output_type": "execute_result"
    }
   ],
   "source": [
    "#html parser\n",
    "page_soup= soup(page_html)\n",
    "type(page_soup)"
   ]
  },
  {
   "cell_type": "code",
   "execution_count": 12,
   "metadata": {},
   "outputs": [
    {
     "name": "stdout",
     "output_type": "stream",
     "text": [
      "50\n"
     ]
    }
   ],
   "source": [
    "#read class from web page.\n",
    "containers= page_soup.findAll(\"div\", {\"class\": \"lister-item mode-advanced\"})\n",
    "print(len(containers))"
   ]
  },
  {
   "cell_type": "code",
   "execution_count": 14,
   "metadata": {},
   "outputs": [
    {
     "name": "stdout",
     "output_type": "stream",
     "text": [
      "The Shawshank Redemption,(1994),142 min\n",
      "\n",
      "The Dark Knight,(2008),152 min\n",
      "\n",
      "Inception,(2010),148 min\n",
      "\n",
      "Fight Club,(1999),139 min\n",
      "\n",
      "Pulp Fiction,(1994),154 min\n",
      "\n",
      "Forrest Gump,(1994),142 min\n",
      "\n",
      "The Matrix,(1999),136 min\n",
      "\n",
      "The Lord of the Rings: The Fellowship of the Ring,(2001),178 min\n",
      "\n",
      "The Lord of the Rings: The Return of the King,(2003),201 min\n",
      "\n",
      "The Godfather,(1972),175 min\n",
      "\n",
      "The Dark Knight Rises,(2012),164 min\n",
      "\n",
      "The Lord of the Rings: The Two Towers,(2002),179 min\n",
      "\n",
      "Se7en,(1995),127 min\n",
      "\n",
      "Django Unchained,(2012),165 min\n",
      "\n",
      "Gladiator,(2000),155 min\n",
      "\n",
      "Batman Begins,(2005),140 min\n",
      "\n",
      "The Avengers,(2012),143 min\n",
      "\n",
      "The Silence of the Lambs,(1991),118 min\n",
      "\n",
      "Inglourious Basterds,(2009),153 min\n",
      "\n",
      "Star Wars,(1977),121 min\n",
      "\n",
      "Saving Private Ryan,(1998),169 min\n",
      "\n",
      "Schindler's List,(1993),195 min\n",
      "\n",
      "The Departed,(2006),151 min\n",
      "\n",
      "The Prestige,(2006),130 min\n",
      "\n",
      "Star Wars: Episode V - The Empire Strikes Back,(1980),124 min\n",
      "\n",
      "The Green Mile,(1999),189 min\n",
      "\n",
      "Avatar,(2009),162 min\n",
      "\n",
      "Memento,(2000),113 min\n",
      "\n",
      "The Godfather: Part II,(1974),202 min\n",
      "\n",
      "Shutter Island,(2010),138 min\n",
      "\n",
      "American Beauty,(1999),122 min\n",
      "\n",
      "Back to the Future,(1985),116 min\n",
      "\n",
      "Titanic,(1997),194 min\n",
      "\n",
      "American History X,(1998),119 min\n",
      "\n",
      "V for Vendetta,(2005),132 min\n",
      "\n",
      "Léon,(1994),110 min\n",
      "\n",
      "Pirates of the Caribbean: The Curse of the Black Pearl,(2003),143 min\n",
      "\n",
      "Goodfellas,(1990),146 min\n",
      "\n",
      "Kill Bill: Vol. 1,(2003),111 min\n",
      "\n",
      "Terminator 2: Judgment Day,(1991),137 min\n",
      "\n",
      "WALL·E,(2008),98 min\n",
      "\n",
      "The Usual Suspects,(1995),106 min\n",
      "\n",
      "Braveheart,(1995),178 min\n",
      "\n",
      "Star Wars: Episode VI - Return of the Jedi,(1983),131 min\n",
      "\n",
      "Finding Nemo,(2003),100 min\n",
      "\n",
      "Iron Man,(2008),126 min\n",
      "\n",
      "The Lion King,(1994),88 min\n",
      "\n",
      "Up,(2009),96 min\n",
      "\n",
      "The Truman Show,(1998),103 min\n",
      "\n",
      "Reservoir Dogs,(1992),99 min\n",
      "\n"
     ]
    }
   ],
   "source": [
    "filename= \"imdb_m.csv\"\n",
    "f= open(filename, \"w\")\n",
    "\n",
    "headers= \"Name, Year, Runtime \\n\"\n",
    "f.write(headers)\n",
    "\n",
    "for container in containers:\n",
    "    name= container.img[\"alt\"]\n",
    "    year_mov= container.findAll(\"spa\", {\"class\": \"lister-item-year\"})\n",
    "    year=year_mov[0].text\n",
    "    runtime_mov= container.findAll(\"span\", {\"class\": \"runtime\"})\n",
    "    runtime=runtime_mov[0].text\n",
    "    \n",
    "    print(name + \",\" + year + \",\" + runtime +  \"\\n\")\n",
    "    f.write(name + \",\" + year + \",\" + runtime  + \"\\n\")\n",
    "    \n",
    "f.close()"
   ]
  },
  {
   "cell_type": "code",
   "execution_count": 16,
   "metadata": {},
   "outputs": [],
   "source": [
    "import pandas as pd\n",
    "f=pd.read_csv('imdb_m.csv',encoding='latin1')\n"
   ]
  },
  {
   "cell_type": "code",
   "execution_count": 17,
   "metadata": {},
   "outputs": [
    {
     "data": {
      "text/html": [
       "<div>\n",
       "<style scoped>\n",
       "    .dataframe tbody tr th:only-of-type {\n",
       "        vertical-align: middle;\n",
       "    }\n",
       "\n",
       "    .dataframe tbody tr th {\n",
       "        vertical-align: top;\n",
       "    }\n",
       "\n",
       "    .dataframe thead th {\n",
       "        text-align: right;\n",
       "    }\n",
       "</style>\n",
       "<table border=\"1\" class=\"dataframe\">\n",
       "  <thead>\n",
       "    <tr style=\"text-align: right;\">\n",
       "      <th></th>\n",
       "      <th>Name</th>\n",
       "      <th>Year</th>\n",
       "      <th>Runtime</th>\n",
       "    </tr>\n",
       "  </thead>\n",
       "  <tbody>\n",
       "    <tr>\n",
       "      <th>0</th>\n",
       "      <td>The Shawshank Redemption</td>\n",
       "      <td>(1994)</td>\n",
       "      <td>142 min</td>\n",
       "    </tr>\n",
       "    <tr>\n",
       "      <th>1</th>\n",
       "      <td>The Dark Knight</td>\n",
       "      <td>(2008)</td>\n",
       "      <td>152 min</td>\n",
       "    </tr>\n",
       "    <tr>\n",
       "      <th>2</th>\n",
       "      <td>Inception</td>\n",
       "      <td>(2010)</td>\n",
       "      <td>148 min</td>\n",
       "    </tr>\n",
       "    <tr>\n",
       "      <th>3</th>\n",
       "      <td>Fight Club</td>\n",
       "      <td>(1999)</td>\n",
       "      <td>139 min</td>\n",
       "    </tr>\n",
       "    <tr>\n",
       "      <th>4</th>\n",
       "      <td>Pulp Fiction</td>\n",
       "      <td>(1994)</td>\n",
       "      <td>154 min</td>\n",
       "    </tr>\n",
       "  </tbody>\n",
       "</table>\n",
       "</div>"
      ],
      "text/plain": [
       "                       Name    Year  Runtime \n",
       "0  The Shawshank Redemption  (1994)   142 min\n",
       "1           The Dark Knight  (2008)   152 min\n",
       "2                 Inception  (2010)   148 min\n",
       "3                Fight Club  (1999)   139 min\n",
       "4              Pulp Fiction  (1994)   154 min"
      ]
     },
     "execution_count": 17,
     "metadata": {},
     "output_type": "execute_result"
    }
   ],
   "source": [
    "f.head()"
   ]
  },
  {
   "cell_type": "code",
   "execution_count": null,
   "metadata": {},
   "outputs": [],
   "source": []
  }
 ],
 "metadata": {
  "kernelspec": {
   "display_name": "Python 3",
   "language": "python",
   "name": "python3"
  },
  "language_info": {
   "codemirror_mode": {
    "name": "ipython",
    "version": 3
   },
   "file_extension": ".py",
   "mimetype": "text/x-python",
   "name": "python",
   "nbconvert_exporter": "python",
   "pygments_lexer": "ipython3",
   "version": "3.7.0"
  }
 },
 "nbformat": 4,
 "nbformat_minor": 2
}
